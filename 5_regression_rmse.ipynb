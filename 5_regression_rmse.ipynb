{
 "cells": [
  {
   "cell_type": "markdown",
   "metadata": {},
   "source": [
    "## **YAP 101 Homework-5**  \n",
    "Due Date: 17 March 2020 23:59\n",
    "\n",
    "Send your files to m.torusdag@etu.edu.tr\n",
    "\n",
    "The subject of your email should be \"YAP101 HW5\""
   ]
  },
  {
   "cell_type": "code",
   "execution_count": 9,
   "metadata": {},
   "outputs": [],
   "source": [
    "# Run this cell first\n",
    "from datascience import * \n",
    "%matplotlib inline\n",
    "import matplotlib.pyplot as plots\n",
    "plots.style.use('fivethirtyeight')\n",
    "import numpy as np"
   ]
  },
  {
   "cell_type": "markdown",
   "metadata": {},
   "source": [
    "**Question 1 (5 Points)**. We want to predict the sale price of houses. Thankfully, we have a data for that. Please load the house.csv data in Resources section on Piazza. In that data, there are 10 columns and one of them is \"SalePrice\" which is the value we want to predict. First, divide the data into two halves: train and test. First half is the train and the other half is will be used for test."
   ]
  },
  {
   "cell_type": "code",
   "execution_count": 10,
   "metadata": {},
   "outputs": [],
   "source": [
    "import pandas as pd\n",
    "data=pd.read_csv('house.csv')\n",
    "data=data.select_dtypes(include=['float64','int64'])\n",
    "data = data.dropna(how='any',axis=0) \n",
    "house=Table.from_df(data)\n",
    "train,test=house.shuffle().split(1137)"
   ]
  },
  {
   "cell_type": "code",
   "execution_count": 11,
   "metadata": {},
   "outputs": [
    {
     "data": {
      "text/html": [
       "<table border=\"1\" class=\"dataframe\">\n",
       "    <thead>\n",
       "        <tr>\n",
       "            <th>Order</th> <th>PID</th> <th>MS SubClass</th> <th>Lot Frontage</th> <th>Lot Area</th> <th>Overall Qual</th> <th>Overall Cond</th> <th>Year Built</th> <th>Year Remod/Add</th> <th>Mas Vnr Area</th> <th>BsmtFin SF 1</th> <th>BsmtFin SF 2</th> <th>Bsmt Unf SF</th> <th>Total Bsmt SF</th> <th>1st Flr SF</th> <th>2nd Flr SF</th> <th>Low Qual Fin SF</th> <th>Gr Liv Area</th> <th>Bsmt Full Bath</th> <th>Bsmt Half Bath</th> <th>Full Bath</th> <th>Half Bath</th> <th>Bedroom AbvGr</th> <th>Kitchen AbvGr</th> <th>TotRms AbvGrd</th> <th>Fireplaces</th> <th>Garage Yr Blt</th> <th>Garage Cars</th> <th>Garage Area</th> <th>Wood Deck SF</th> <th>Open Porch SF</th> <th>Enclosed Porch</th> <th>3Ssn Porch</th> <th>Screen Porch</th> <th>Pool Area</th> <th>Misc Val</th> <th>Mo Sold</th> <th>Yr Sold</th> <th>SalePrice</th>\n",
       "        </tr>\n",
       "    </thead>\n",
       "    <tbody>\n",
       "        <tr>\n",
       "            <td>2762 </td> <td>906394040</td> <td>20         </td> <td>78          </td> <td>9316    </td> <td>7           </td> <td>5           </td> <td>2005      </td> <td>2005          </td> <td>140         </td> <td>56          </td> <td>0           </td> <td>1558       </td> <td>1614         </td> <td>1614      </td> <td>0         </td> <td>0              </td> <td>1614       </td> <td>0             </td> <td>0             </td> <td>2        </td> <td>0        </td> <td>3            </td> <td>1            </td> <td>7            </td> <td>1         </td> <td>2005         </td> <td>2          </td> <td>576        </td> <td>100         </td> <td>45           </td> <td>0             </td> <td>0         </td> <td>0           </td> <td>0        </td> <td>0       </td> <td>3      </td> <td>2006   </td> <td>225000   </td>\n",
       "        </tr>\n",
       "        <tr>\n",
       "            <td>688  </td> <td>535475010</td> <td>60         </td> <td>76          </td> <td>7570    </td> <td>6           </td> <td>5           </td> <td>1964      </td> <td>1964          </td> <td>420         </td> <td>0           </td> <td>0           </td> <td>780        </td> <td>780          </td> <td>993       </td> <td>813       </td> <td>0              </td> <td>1806       </td> <td>0             </td> <td>0             </td> <td>1        </td> <td>1        </td> <td>4            </td> <td>1            </td> <td>8            </td> <td>0         </td> <td>1964         </td> <td>2          </td> <td>483        </td> <td>0           </td> <td>55           </td> <td>0             </td> <td>0         </td> <td>0           </td> <td>0        </td> <td>0       </td> <td>3      </td> <td>2009   </td> <td>144750   </td>\n",
       "        </tr>\n",
       "        <tr>\n",
       "            <td>1281 </td> <td>535475020</td> <td>60         </td> <td>71          </td> <td>7056    </td> <td>6           </td> <td>5           </td> <td>1963      </td> <td>1963          </td> <td>415         </td> <td>400         </td> <td>0           </td> <td>380        </td> <td>780          </td> <td>983       </td> <td>813       </td> <td>0              </td> <td>1796       </td> <td>1             </td> <td>0             </td> <td>1        </td> <td>1        </td> <td>4            </td> <td>1            </td> <td>8            </td> <td>1         </td> <td>1963         </td> <td>2          </td> <td>483        </td> <td>0           </td> <td>50           </td> <td>0             </td> <td>0         </td> <td>0           </td> <td>0        </td> <td>0       </td> <td>10     </td> <td>2008   </td> <td>140000   </td>\n",
       "        </tr>\n",
       "        <tr>\n",
       "            <td>189  </td> <td>902402130</td> <td>70         </td> <td>60          </td> <td>7740    </td> <td>4           </td> <td>7           </td> <td>1910      </td> <td>1950          </td> <td>0           </td> <td>0           </td> <td>0           </td> <td>622        </td> <td>622          </td> <td>741       </td> <td>622       </td> <td>0              </td> <td>1363       </td> <td>0             </td> <td>0             </td> <td>1        </td> <td>0        </td> <td>3            </td> <td>1            </td> <td>6            </td> <td>0         </td> <td>1966         </td> <td>2          </td> <td>528        </td> <td>0           </td> <td>0            </td> <td>0             </td> <td>0         </td> <td>168         </td> <td>0        </td> <td>0       </td> <td>6      </td> <td>2010   </td> <td>125500   </td>\n",
       "        </tr>\n",
       "    </tbody>\n",
       "</table>\n",
       "<p>... (1133 rows omitted)</p>"
      ],
      "text/plain": [
       "<IPython.core.display.HTML object>"
      ]
     },
     "metadata": {},
     "output_type": "display_data"
    }
   ],
   "source": [
    "train.show(4)"
   ]
  },
  {
   "cell_type": "markdown",
   "metadata": {},
   "source": [
    "**Question 2 (20 Points)** For each column in the table (other than SalePrice column), calculate the pearson correlation with SalePrice **using the train data**. Print each column name and calculated pearson correlation. "
   ]
  },
  {
   "cell_type": "code",
   "execution_count": 12,
   "metadata": {},
   "outputs": [
    {
     "data": {
      "text/plain": [
       "39"
      ]
     },
     "execution_count": 12,
     "metadata": {},
     "output_type": "execute_result"
    }
   ],
   "source": [
    "from scipy.stats import pearsonr\n",
    "len(train.labels)"
   ]
  },
  {
   "cell_type": "code",
   "execution_count": 13,
   "metadata": {},
   "outputs": [
    {
     "data": {
      "text/html": [
       "<table border=\"1\" class=\"dataframe\">\n",
       "    <thead>\n",
       "        <tr>\n",
       "            <th>column_name</th> <th>pearson_r</th>\n",
       "        </tr>\n",
       "    </thead>\n",
       "    <tbody>\n",
       "        <tr>\n",
       "            <td>Order         </td> <td>-0.0734255</td>\n",
       "        </tr>\n",
       "        <tr>\n",
       "            <td>PID           </td> <td>-0.239609 </td>\n",
       "        </tr>\n",
       "        <tr>\n",
       "            <td>MS SubClass   </td> <td>-0.110116 </td>\n",
       "        </tr>\n",
       "        <tr>\n",
       "            <td>Lot Frontage  </td> <td>0.368816  </td>\n",
       "        </tr>\n",
       "        <tr>\n",
       "            <td>Lot Area      </td> <td>0.293032  </td>\n",
       "        </tr>\n",
       "        <tr>\n",
       "            <td>Overall Qual  </td> <td>0.807481  </td>\n",
       "        </tr>\n",
       "        <tr>\n",
       "            <td>Overall Cond  </td> <td>-0.174109 </td>\n",
       "        </tr>\n",
       "        <tr>\n",
       "            <td>Year Built    </td> <td>0.569215  </td>\n",
       "        </tr>\n",
       "        <tr>\n",
       "            <td>Year Remod/Add</td> <td>0.536344  </td>\n",
       "        </tr>\n",
       "        <tr>\n",
       "            <td>Mas Vnr Area  </td> <td>0.535879  </td>\n",
       "        </tr>\n",
       "    </tbody>\n",
       "</table>\n",
       "<p>... (28 rows omitted)</p>"
      ],
      "text/plain": [
       "column_name    | pearson_r\n",
       "Order          | -0.0734255\n",
       "PID            | -0.239609\n",
       "MS SubClass    | -0.110116\n",
       "Lot Frontage   | 0.368816\n",
       "Lot Area       | 0.293032\n",
       "Overall Qual   | 0.807481\n",
       "Overall Cond   | -0.174109\n",
       "Year Built     | 0.569215\n",
       "Year Remod/Add | 0.536344\n",
       "Mas Vnr Area   | 0.535879\n",
       "... (28 rows omitted)"
      ]
     },
     "execution_count": 13,
     "metadata": {},
     "output_type": "execute_result"
    }
   ],
   "source": [
    "pearsonr_array=make_array()\n",
    "labels=make_array()\n",
    "for i in np.arange(len(train.labels)-1):\n",
    "    r_column=pearsonr(train.column('SalePrice'),train.column(i))[0]\n",
    "    pearsonr_array=np.append(pearsonr_array,r_column)\n",
    "    labels=np.append(labels,train.labels[i])\n",
    "    \n",
    "pearson_table=Table().with_columns(\"column_name\",labels,\"pearson_r\",pearsonr_array)\n",
    "pearson_table"
   ]
  },
  {
   "cell_type": "markdown",
   "metadata": {},
   "source": [
    "**Question 3 (10 Points)** For the column that has the highest pearson correlation, calculate the slope and intersept of the linear regression line. "
   ]
  },
  {
   "cell_type": "code",
   "execution_count": 14,
   "metadata": {},
   "outputs": [
    {
     "data": {
      "text/html": [
       "<table border=\"1\" class=\"dataframe\">\n",
       "    <thead>\n",
       "        <tr>\n",
       "            <th>column_name</th> <th>pearson_r</th>\n",
       "        </tr>\n",
       "    </thead>\n",
       "    <tbody>\n",
       "        <tr>\n",
       "            <td>Overall Qual</td> <td>0.807481 </td>\n",
       "        </tr>\n",
       "    </tbody>\n",
       "</table>"
      ],
      "text/plain": [
       "column_name  | pearson_r\n",
       "Overall Qual | 0.807481"
      ]
     },
     "execution_count": 14,
     "metadata": {},
     "output_type": "execute_result"
    }
   ],
   "source": [
    "pearson_table.sort('pearson_r', descending=True).take(0)"
   ]
  },
  {
   "cell_type": "code",
   "execution_count": 15,
   "metadata": {},
   "outputs": [],
   "source": [
    "def rmse(slope, intercept):\n",
    "    y = train.column('SalePrice')\n",
    "    x = train.column('Overall Qual')\n",
    "    fitted = slope * x + intercept\n",
    "    mse = np.mean((y - fitted) ** 2)\n",
    "    return mse ** 0.5"
   ]
  },
  {
   "cell_type": "code",
   "execution_count": 16,
   "metadata": {},
   "outputs": [
    {
     "data": {
      "text/plain": [
       "(43759.22129133456, -82644.96735005129)"
      ]
     },
     "execution_count": 16,
     "metadata": {},
     "output_type": "execute_result"
    }
   ],
   "source": [
    "slope=minimize(rmse)[0]\n",
    "intercept=minimize(rmse)[1]\n",
    "slope,intercept"
   ]
  },
  {
   "cell_type": "code",
   "execution_count": 17,
   "metadata": {},
   "outputs": [
    {
     "data": {
      "image/png": "[encoded data removed]",
      "text/plain": [
       "<Figure size 360x360 with 1 Axes>"
      ]
     },
     "metadata": {},
     "output_type": "display_data"
    }
   ],
   "source": [
    "prediction = train.with_column('Prediction',slope*train.column('Overall Qual') + intercept)\n",
    "prediction.select(\"Overall Qual\", \"SalePrice\",\"Prediction\").scatter(\"Overall Qual\")\n"
   ]
  },
  {
   "cell_type": "markdown",
   "metadata": {},
   "source": [
    "**Question 5(10 Points)**. What is the root mean square error for the regression line?"
   ]
  },
  {
   "cell_type": "code",
   "execution_count": 18,
   "metadata": {},
   "outputs": [],
   "source": [
    "def rmse(slope, intercept):\n",
    "    y =prediction.column(\"SalePrice\")\n",
    "    x =prediction.column(\"Overall Qual\")\n",
    "    fitted = slope * x + intercept\n",
    "    mse = np.mean((y - fitted) ** 2)\n",
    "    return mse ** 0.5"
   ]
  },
  {
   "cell_type": "code",
   "execution_count": 19,
   "metadata": {},
   "outputs": [
    {
     "data": {
      "text/plain": [
       "50141.58032798591"
      ]
     },
     "execution_count": 19,
     "metadata": {},
     "output_type": "execute_result"
    }
   ],
   "source": [
    "rmse(slope,intercept)"
   ]
  },
  {
   "cell_type": "markdown",
   "metadata": {},
   "source": [
    "**Question 6 (30 Points)** For each column, try to fit a non-linear regression line (ax2 + bx + c) and calculate their rmse scores."
   ]
  },
  {
   "cell_type": "code",
   "execution_count": 20,
   "metadata": {},
   "outputs": [
    {
     "data": {
      "text/html": [
       "<table border=\"1\" class=\"dataframe\">\n",
       "    <thead>\n",
       "        <tr>\n",
       "            <th>labels</th> <th>a</th> <th>b</th> <th>c</th> <th>rmse values</th>\n",
       "        </tr>\n",
       "    </thead>\n",
       "    <tbody>\n",
       "        <tr>\n",
       "            <td>Order         </td> <td>-0.000709446</td> <td>-5.10716    </td> <td>195055      </td> <td>7.10408e+09</td>\n",
       "        </tr>\n",
       "        <tr>\n",
       "            <td>PID           </td> <td>1.33296e-06 </td> <td>-0.000107259</td> <td>261448      </td> <td>6.73007e+09</td>\n",
       "        </tr>\n",
       "        <tr>\n",
       "            <td>MS SubClass   </td> <td>-3.93419    </td> <td>427.618     </td> <td>180310      </td> <td>6.98719e+09</td>\n",
       "        </tr>\n",
       "        <tr>\n",
       "            <td>Lot Frontage  </td> <td>-5.83979    </td> <td>2358.58     </td> <td>51799.5     </td> <td>6.05276e+09</td>\n",
       "        </tr>\n",
       "        <tr>\n",
       "            <td>Lot Area      </td> <td>3.64641e-05 </td> <td>3.00447     </td> <td>151411      </td> <td>6.48921e+09</td>\n",
       "        </tr>\n",
       "        <tr>\n",
       "            <td>Overall Qual  </td> <td>7190.81     </td> <td>-44075.3    </td> <td>167735      </td> <td>2.05403e+09</td>\n",
       "        </tr>\n",
       "        <tr>\n",
       "            <td>Overall Cond  </td> <td>-3569.64    </td> <td>27867.4     </td> <td>144983      </td> <td>6.83465e+09</td>\n",
       "        </tr>\n",
       "        <tr>\n",
       "            <td>Year Built    </td> <td>0.362538    </td> <td>140.978     </td> <td>-1.5028e+06 </td> <td>4.81013e+09</td>\n",
       "        </tr>\n",
       "        <tr>\n",
       "            <td>Year Remod/Add</td> <td>0.491182    </td> <td>204.242     </td> <td>-2.15582e+06</td> <td>5.08456e+09</td>\n",
       "        </tr>\n",
       "        <tr>\n",
       "            <td>Mas Vnr Area  </td> <td>-0.0367031  </td> <td>275.146     </td> <td>158063      </td> <td>5.08739e+09</td>\n",
       "        </tr>\n",
       "    </tbody>\n",
       "</table>\n",
       "<p>... (28 rows omitted)</p>"
      ],
      "text/plain": [
       "labels         | a            | b            | c            | rmse values\n",
       "Order          | -0.000709446 | -5.10716     | 195055       | 7.10408e+09\n",
       "PID            | 1.33296e-06  | -0.000107259 | 261448       | 6.73007e+09\n",
       "MS SubClass    | -3.93419     | 427.618      | 180310       | 6.98719e+09\n",
       "Lot Frontage   | -5.83979     | 2358.58      | 51799.5      | 6.05276e+09\n",
       "Lot Area       | 3.64641e-05  | 3.00447      | 151411       | 6.48921e+09\n",
       "Overall Qual   | 7190.81      | -44075.3     | 167735       | 2.05403e+09\n",
       "Overall Cond   | -3569.64     | 27867.4      | 144983       | 6.83465e+09\n",
       "Year Built     | 0.362538     | 140.978      | -1.5028e+06  | 4.81013e+09\n",
       "Year Remod/Add | 0.491182     | 204.242      | -2.15582e+06 | 5.08456e+09\n",
       "Mas Vnr Area   | -0.0367031   | 275.146      | 158063       | 5.08739e+09\n",
       "... (28 rows omitted)"
      ]
     },
     "execution_count": 20,
     "metadata": {},
     "output_type": "execute_result"
    }
   ],
   "source": [
    "a=make_array()\n",
    "b=make_array()\n",
    "c=make_array()\n",
    "labels=make_array()\n",
    "rmse_values=make_array()\n",
    "\n",
    "for i in np.arange(len(train.labels)-1):\n",
    "    def quadratic_mse(a, b, c):\n",
    "        x = train.column(i)\n",
    "        y = train.column('SalePrice')\n",
    "        fitted =  a*(x**2) + b*x + c\n",
    "        return np.mean((y - fitted) ** 2)\n",
    "    minimize_values=minimize(quadratic_mse)\n",
    "    a=np.append(a,minimize_values[0])\n",
    "    b=np.append(b,minimize_values[1])\n",
    "    c=np.append(c,minimize_values[2])\n",
    "    labels=np.append(labels,train.labels[i])\n",
    "    rmse_values=np.append(rmse_values,quadratic_mse(minimize_values[0],minimize_values[1],minimize_values[2]))\n",
    "\n",
    "rmse_train=Table().with_columns(\"labels\",labels,\"a\",a,\"b\",b,\"c\",c,\"rmse values\",rmse_values)\n",
    "rmse_train"
   ]
  },
  {
   "cell_type": "markdown",
   "metadata": {},
   "source": [
    "**Question 7(10 Points)**. On test set, find rmse value using the linear regression line you found in Question 3 "
   ]
  },
  {
   "cell_type": "code",
   "execution_count": 21,
   "metadata": {},
   "outputs": [],
   "source": [
    "def predict_sale(x):\n",
    "    return slope * x + intercept"
   ]
  },
  {
   "cell_type": "code",
   "execution_count": 22,
   "metadata": {},
   "outputs": [],
   "source": [
    "def column_rmse(t):\n",
    "    y =t.column(\"SalePrice\")\n",
    "    x =t.column(\"Overall Qual\")\n",
    "    fitted = slope * x + intercept\n",
    "    mse = np.mean((y - fitted) ** 2)\n",
    "    return mse ** 0.5"
   ]
  },
  {
   "cell_type": "code",
   "execution_count": 23,
   "metadata": {},
   "outputs": [
    {
     "data": {
      "text/plain": [
       "49650.72715314241"
      ]
     },
     "execution_count": 23,
     "metadata": {},
     "output_type": "execute_result"
    }
   ],
   "source": [
    "test_regression_prediction = test.with_column('Regression Prediction',test.apply(predict_sale,'Overall Qual') )\n",
    "\n",
    "column_rmse(test_regression_prediction)"
   ]
  },
  {
   "cell_type": "markdown",
   "metadata": {},
   "source": [
    "**Question 8 (10 Points)**. On test set, find rmse value using the non-linear regression line you found in Question 6 with the lowest rmse score."
   ]
  },
  {
   "cell_type": "code",
   "execution_count": 24,
   "metadata": {},
   "outputs": [
    {
     "data": {
      "text/html": [
       "<table border=\"1\" class=\"dataframe\">\n",
       "    <thead>\n",
       "        <tr>\n",
       "            <th>labels</th> <th>a</th> <th>b</th> <th>c</th> <th>rmse values</th>\n",
       "        </tr>\n",
       "    </thead>\n",
       "    <tbody>\n",
       "        <tr>\n",
       "            <td>Overall Qual</td> <td>7190.81</td> <td>-44075.3</td> <td>167735</td> <td>2.05403e+09</td>\n",
       "        </tr>\n",
       "    </tbody>\n",
       "</table>"
      ],
      "text/plain": [
       "labels       | a       | b        | c      | rmse values\n",
       "Overall Qual | 7190.81 | -44075.3 | 167735 | 2.05403e+09"
      ]
     },
     "execution_count": 24,
     "metadata": {},
     "output_type": "execute_result"
    }
   ],
   "source": [
    "nonlinear=rmse_train.sort(\"rmse values\",descending=False).take(0)\n",
    "non_label=nonlinear.column('labels')[0]\n",
    "non_a=nonlinear.column('a')[0]\n",
    "non_b=nonlinear.column('b')[0]\n",
    "non_c=nonlinear.column('c')[0]\n",
    "nonlinear"
   ]
  },
  {
   "cell_type": "code",
   "execution_count": 25,
   "metadata": {},
   "outputs": [],
   "source": [
    "def predict_nonlinear_sale(x):\n",
    "    return non_a* x*x + non_b*x+non_c"
   ]
  },
  {
   "cell_type": "code",
   "execution_count": 26,
   "metadata": {},
   "outputs": [
    {
     "data": {
      "text/html": [
       "<table border=\"1\" class=\"dataframe\">\n",
       "    <thead>\n",
       "        <tr>\n",
       "            <th>Order</th> <th>PID</th> <th>MS SubClass</th> <th>Lot Frontage</th> <th>Lot Area</th> <th>Overall Qual</th> <th>Overall Cond</th> <th>Year Built</th> <th>Year Remod/Add</th> <th>Mas Vnr Area</th> <th>BsmtFin SF 1</th> <th>BsmtFin SF 2</th> <th>Bsmt Unf SF</th> <th>Total Bsmt SF</th> <th>1st Flr SF</th> <th>2nd Flr SF</th> <th>Low Qual Fin SF</th> <th>Gr Liv Area</th> <th>Bsmt Full Bath</th> <th>Bsmt Half Bath</th> <th>Full Bath</th> <th>Half Bath</th> <th>Bedroom AbvGr</th> <th>Kitchen AbvGr</th> <th>TotRms AbvGrd</th> <th>Fireplaces</th> <th>Garage Yr Blt</th> <th>Garage Cars</th> <th>Garage Area</th> <th>Wood Deck SF</th> <th>Open Porch SF</th> <th>Enclosed Porch</th> <th>3Ssn Porch</th> <th>Screen Porch</th> <th>Pool Area</th> <th>Misc Val</th> <th>Mo Sold</th> <th>Yr Sold</th> <th>SalePrice</th> <th>Regression Prediction</th>\n",
       "        </tr>\n",
       "    </thead>\n",
       "    <tbody>\n",
       "        <tr>\n",
       "            <td>2574 </td> <td>535152070</td> <td>80         </td> <td>70          </td> <td>8163    </td> <td>5           </td> <td>6           </td> <td>1959      </td> <td>1959          </td> <td>128         </td> <td>748         </td> <td>294         </td> <td>102        </td> <td>1144         </td> <td>1144      </td> <td>0         </td> <td>0              </td> <td>1144       </td> <td>1             </td> <td>0             </td> <td>1        </td> <td>0        </td> <td>3            </td> <td>1            </td> <td>6            </td> <td>1         </td> <td>1959         </td> <td>1          </td> <td>796        </td> <td>86          </td> <td>0            </td> <td>0             </td> <td>0         </td> <td>0           </td> <td>0        </td> <td>0       </td> <td>3      </td> <td>2006   </td> <td>143000   </td> <td>127129               </td>\n",
       "        </tr>\n",
       "        <tr>\n",
       "            <td>360  </td> <td>527164020</td> <td>20         </td> <td>58          </td> <td>7250    </td> <td>6           </td> <td>5           </td> <td>1993      </td> <td>1993          </td> <td>45          </td> <td>0           </td> <td>0           </td> <td>1181       </td> <td>1181         </td> <td>1190      </td> <td>0         </td> <td>0              </td> <td>1190       </td> <td>0             </td> <td>0             </td> <td>2        </td> <td>0        </td> <td>3            </td> <td>1            </td> <td>6            </td> <td>1         </td> <td>1993         </td> <td>2          </td> <td>430        </td> <td>0           </td> <td>21           </td> <td>0             </td> <td>0         </td> <td>0           </td> <td>0        </td> <td>0       </td> <td>11     </td> <td>2009   </td> <td>166000   </td> <td>162153               </td>\n",
       "        </tr>\n",
       "        <tr>\n",
       "            <td>2417 </td> <td>528221100</td> <td>60         </td> <td>105         </td> <td>15578   </td> <td>6           </td> <td>5           </td> <td>2006      </td> <td>2006          </td> <td>0           </td> <td>0           </td> <td>0           </td> <td>728        </td> <td>728          </td> <td>728       </td> <td>728       </td> <td>0              </td> <td>1456       </td> <td>0             </td> <td>0             </td> <td>2        </td> <td>1        </td> <td>3            </td> <td>1            </td> <td>8            </td> <td>0         </td> <td>2006         </td> <td>2          </td> <td>429        </td> <td>0           </td> <td>0            </td> <td>0             </td> <td>0         </td> <td>0           </td> <td>0        </td> <td>0       </td> <td>5      </td> <td>2006   </td> <td>172785   </td> <td>162153               </td>\n",
       "        </tr>\n",
       "        <tr>\n",
       "            <td>2679 </td> <td>903231240</td> <td>30         </td> <td>51          </td> <td>6120    </td> <td>5           </td> <td>7           </td> <td>1925      </td> <td>1950          </td> <td>0           </td> <td>489         </td> <td>0           </td> <td>279        </td> <td>768          </td> <td>1015      </td> <td>0         </td> <td>0              </td> <td>1015       </td> <td>0             </td> <td>0             </td> <td>1        </td> <td>0        </td> <td>3            </td> <td>1            </td> <td>6            </td> <td>0         </td> <td>1925         </td> <td>1          </td> <td>450        </td> <td>0           </td> <td>0            </td> <td>112           </td> <td>0         </td> <td>120         </td> <td>0        </td> <td>620     </td> <td>7      </td> <td>2006   </td> <td>88000    </td> <td>127129               </td>\n",
       "        </tr>\n",
       "        <tr>\n",
       "            <td>1297 </td> <td>902128150</td> <td>190        </td> <td>60          </td> <td>10800   </td> <td>6           </td> <td>6           </td> <td>1940      </td> <td>1950          </td> <td>0           </td> <td>590         </td> <td>0           </td> <td>294        </td> <td>884          </td> <td>884       </td> <td>552       </td> <td>0              </td> <td>1436       </td> <td>0             </td> <td>0             </td> <td>2        </td> <td>0        </td> <td>3            </td> <td>2            </td> <td>8            </td> <td>2         </td> <td>1940         </td> <td>2          </td> <td>828        </td> <td>0           </td> <td>0            </td> <td>126           </td> <td>0         </td> <td>0           </td> <td>0        </td> <td>0       </td> <td>5      </td> <td>2008   </td> <td>155000   </td> <td>162153               </td>\n",
       "        </tr>\n",
       "        <tr>\n",
       "            <td>2915 </td> <td>923226290</td> <td>160        </td> <td>21          </td> <td>1484    </td> <td>4           </td> <td>4           </td> <td>1972      </td> <td>1972          </td> <td>0           </td> <td>252         </td> <td>0           </td> <td>294        </td> <td>546          </td> <td>546       </td> <td>546       </td> <td>0              </td> <td>1092       </td> <td>0             </td> <td>0             </td> <td>1        </td> <td>1        </td> <td>3            </td> <td>1            </td> <td>5            </td> <td>0         </td> <td>1972         </td> <td>1          </td> <td>253        </td> <td>0           </td> <td>0            </td> <td>0             </td> <td>0         </td> <td>0           </td> <td>0        </td> <td>0       </td> <td>5      </td> <td>2006   </td> <td>79400    </td> <td>106487               </td>\n",
       "        </tr>\n",
       "        <tr>\n",
       "            <td>2552 </td> <td>534430050</td> <td>30         </td> <td>60          </td> <td>8550    </td> <td>6           </td> <td>8           </td> <td>1934      </td> <td>1950          </td> <td>0           </td> <td>574         </td> <td>0           </td> <td>242        </td> <td>816          </td> <td>816       </td> <td>0         </td> <td>0              </td> <td>816        </td> <td>1             </td> <td>0             </td> <td>1        </td> <td>0        </td> <td>2            </td> <td>1            </td> <td>4            </td> <td>1         </td> <td>1949         </td> <td>1          </td> <td>240        </td> <td>228         </td> <td>0            </td> <td>40            </td> <td>0         </td> <td>0           </td> <td>0        </td> <td>0       </td> <td>7      </td> <td>2006   </td> <td>129800   </td> <td>162153               </td>\n",
       "        </tr>\n",
       "        <tr>\n",
       "            <td>1113 </td> <td>528429050</td> <td>20         </td> <td>75          </td> <td>11957   </td> <td>8           </td> <td>5           </td> <td>2006      </td> <td>2006          </td> <td>53          </td> <td>24          </td> <td>0           </td> <td>1550       </td> <td>1574         </td> <td>1574      </td> <td>0         </td> <td>0              </td> <td>1574       </td> <td>0             </td> <td>0             </td> <td>2        </td> <td>0        </td> <td>3            </td> <td>1            </td> <td>7            </td> <td>1         </td> <td>2006         </td> <td>3          </td> <td>824        </td> <td>144         </td> <td>104          </td> <td>0             </td> <td>0         </td> <td>0           </td> <td>0        </td> <td>0       </td> <td>7      </td> <td>2008   </td> <td>232000   </td> <td>275345               </td>\n",
       "        </tr>\n",
       "        <tr>\n",
       "            <td>241  </td> <td>905453040</td> <td>20         </td> <td>83          </td> <td>10420   </td> <td>6           </td> <td>5           </td> <td>2009      </td> <td>2009          </td> <td>0           </td> <td>36          </td> <td>0           </td> <td>1176       </td> <td>1212         </td> <td>1212      </td> <td>0         </td> <td>0              </td> <td>1212       </td> <td>0             </td> <td>0             </td> <td>2        </td> <td>0        </td> <td>3            </td> <td>1            </td> <td>6            </td> <td>0         </td> <td>2009         </td> <td>2          </td> <td>460        </td> <td>100         </td> <td>22           </td> <td>0             </td> <td>0         </td> <td>0           </td> <td>0        </td> <td>0       </td> <td>3      </td> <td>2010   </td> <td>186000   </td> <td>162153               </td>\n",
       "        </tr>\n",
       "        <tr>\n",
       "            <td>2451 </td> <td>528360050</td> <td>60         </td> <td>114         </td> <td>17242   </td> <td>9           </td> <td>5           </td> <td>1993      </td> <td>1994          </td> <td>738         </td> <td>292         </td> <td>1393        </td> <td>48         </td> <td>1733         </td> <td>1933      </td> <td>1567      </td> <td>0              </td> <td>3500       </td> <td>1             </td> <td>0             </td> <td>3        </td> <td>1        </td> <td>4            </td> <td>1            </td> <td>11           </td> <td>1         </td> <td>1993         </td> <td>3          </td> <td>959        </td> <td>870         </td> <td>86           </td> <td>0             </td> <td>0         </td> <td>210         </td> <td>0        </td> <td>0       </td> <td>5      </td> <td>2006   </td> <td>584500   </td> <td>353513               </td>\n",
       "        </tr>\n",
       "    </tbody>\n",
       "</table>\n",
       "<p>... (1127 rows omitted)</p>"
      ],
      "text/plain": [
       "Order | PID       | MS SubClass | Lot Frontage | Lot Area | Overall Qual | Overall Cond | Year Built | Year Remod/Add | Mas Vnr Area | BsmtFin SF 1 | BsmtFin SF 2 | Bsmt Unf SF | Total Bsmt SF | 1st Flr SF | 2nd Flr SF | Low Qual Fin SF | Gr Liv Area | Bsmt Full Bath | Bsmt Half Bath | Full Bath | Half Bath | Bedroom AbvGr | Kitchen AbvGr | TotRms AbvGrd | Fireplaces | Garage Yr Blt | Garage Cars | Garage Area | Wood Deck SF | Open Porch SF | Enclosed Porch | 3Ssn Porch | Screen Porch | Pool Area | Misc Val | Mo Sold | Yr Sold | SalePrice | Regression Prediction\n",
       "2574  | 535152070 | 80          | 70           | 8163     | 5            | 6            | 1959       | 1959           | 128          | 748          | 294          | 102         | 1144          | 1144       | 0          | 0               | 1144        | 1              | 0              | 1         | 0         | 3             | 1             | 6             | 1          | 1959          | 1           | 796         | 86           | 0             | 0              | 0          | 0            | 0         | 0        | 3       | 2006    | 143000    | 127129\n",
       "360   | 527164020 | 20          | 58           | 7250     | 6            | 5            | 1993       | 1993           | 45           | 0            | 0            | 1181        | 1181          | 1190       | 0          | 0               | 1190        | 0              | 0              | 2         | 0         | 3             | 1             | 6             | 1          | 1993          | 2           | 430         | 0            | 21            | 0              | 0          | 0            | 0         | 0        | 11      | 2009    | 166000    | 162153\n",
       "2417  | 528221100 | 60          | 105          | 15578    | 6            | 5            | 2006       | 2006           | 0            | 0            | 0            | 728         | 728           | 728        | 728        | 0               | 1456        | 0              | 0              | 2         | 1         | 3             | 1             | 8             | 0          | 2006          | 2           | 429         | 0            | 0             | 0              | 0          | 0            | 0         | 0        | 5       | 2006    | 172785    | 162153\n",
       "2679  | 903231240 | 30          | 51           | 6120     | 5            | 7            | 1925       | 1950           | 0            | 489          | 0            | 279         | 768           | 1015       | 0          | 0               | 1015        | 0              | 0              | 1         | 0         | 3             | 1             | 6             | 0          | 1925          | 1           | 450         | 0            | 0             | 112            | 0          | 120          | 0         | 620      | 7       | 2006    | 88000     | 127129\n",
       "1297  | 902128150 | 190         | 60           | 10800    | 6            | 6            | 1940       | 1950           | 0            | 590          | 0            | 294         | 884           | 884        | 552        | 0               | 1436        | 0              | 0              | 2         | 0         | 3             | 2             | 8             | 2          | 1940          | 2           | 828         | 0            | 0             | 126            | 0          | 0            | 0         | 0        | 5       | 2008    | 155000    | 162153\n",
       "2915  | 923226290 | 160         | 21           | 1484     | 4            | 4            | 1972       | 1972           | 0            | 252          | 0            | 294         | 546           | 546        | 546        | 0               | 1092        | 0              | 0              | 1         | 1         | 3             | 1             | 5             | 0          | 1972          | 1           | 253         | 0            | 0             | 0              | 0          | 0            | 0         | 0        | 5       | 2006    | 79400     | 106487\n",
       "2552  | 534430050 | 30          | 60           | 8550     | 6            | 8            | 1934       | 1950           | 0            | 574          | 0            | 242         | 816           | 816        | 0          | 0               | 816         | 1              | 0              | 1         | 0         | 2             | 1             | 4             | 1          | 1949          | 1           | 240         | 228          | 0             | 40             | 0          | 0            | 0         | 0        | 7       | 2006    | 129800    | 162153\n",
       "1113  | 528429050 | 20          | 75           | 11957    | 8            | 5            | 2006       | 2006           | 53           | 24           | 0            | 1550        | 1574          | 1574       | 0          | 0               | 1574        | 0              | 0              | 2         | 0         | 3             | 1             | 7             | 1          | 2006          | 3           | 824         | 144          | 104           | 0              | 0          | 0            | 0         | 0        | 7       | 2008    | 232000    | 275345\n",
       "241   | 905453040 | 20          | 83           | 10420    | 6            | 5            | 2009       | 2009           | 0            | 36           | 0            | 1176        | 1212          | 1212       | 0          | 0               | 1212        | 0              | 0              | 2         | 0         | 3             | 1             | 6             | 0          | 2009          | 2           | 460         | 100          | 22            | 0              | 0          | 0            | 0         | 0        | 3       | 2010    | 186000    | 162153\n",
       "2451  | 528360050 | 60          | 114          | 17242    | 9            | 5            | 1993       | 1994           | 738          | 292          | 1393         | 48          | 1733          | 1933       | 1567       | 0               | 3500        | 1              | 0              | 3         | 1         | 4             | 1             | 11            | 1          | 1993          | 3           | 959         | 870          | 86            | 0              | 0          | 210          | 0         | 0        | 5       | 2006    | 584500    | 353513\n",
       "... (1127 rows omitted)"
      ]
     },
     "execution_count": 26,
     "metadata": {},
     "output_type": "execute_result"
    }
   ],
   "source": [
    "test_nonlinear_prediction=test.with_column('Regression Prediction',test.apply(predict_nonlinear_sale,non_label) )\n",
    "test_nonlinear_prediction"
   ]
  },
  {
   "cell_type": "code",
   "execution_count": 27,
   "metadata": {},
   "outputs": [],
   "source": [
    "def column_rmse_non(t):\n",
    "    y =t.column(\"SalePrice\")\n",
    "    x =t.column(\"Overall Qual\")\n",
    "    fitted = non_a* x*x + non_b*x+non_c\n",
    "    mse = np.mean((y - fitted) ** 2)\n",
    "    return mse ** 0.5"
   ]
  },
  {
   "cell_type": "code",
   "execution_count": 28,
   "metadata": {},
   "outputs": [
    {
     "data": {
      "text/plain": [
       "44787.7752458498"
      ]
     },
     "execution_count": 28,
     "metadata": {},
     "output_type": "execute_result"
    }
   ],
   "source": [
    "column_rmse_non(test_nonlinear_prediction)"
   ]
  },
  {
   "cell_type": "code",
   "execution_count": null,
   "metadata": {},
   "outputs": [],
   "source": []
  }
 ],
 "metadata": {
  "kernelspec": {
   "display_name": "Python 3",
   "language": "python",
   "name": "python3"
  },
  "language_info": {
   "codemirror_mode": {
    "name": "ipython",
    "version": 3
   },
   "file_extension": ".py",
   "mimetype": "text/x-python",
   "name": "python",
   "nbconvert_exporter": "python",
   "pygments_lexer": "ipython3",
   "version": "3.7.3"
  }
 },
 "nbformat": 4,
 "nbformat_minor": 1
}
