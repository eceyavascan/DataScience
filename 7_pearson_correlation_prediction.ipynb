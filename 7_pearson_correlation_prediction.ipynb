{
 "cells": [
  {
   "cell_type": "markdown",
   "metadata": {},
   "source": [
    "## **YAP 101 Homework-7**  \n",
    "Due Date: 30 March 2020 23:59\n",
    "\n",
    "Send your files to m.torusdag@etu.edu.tr\n",
    "\n",
    "The subject of your email should be \"YAP101 HW7\"\n",
    "\n",
    "Total score is 105"
   ]
  },
  {
   "cell_type": "markdown",
   "metadata": {},
   "source": [
    "In this homework, you will use the  forestfires.csv file which is uploaded on Piazza. Each row represents a forest fire in Portugal with several attributes and the area of the fire. Your task is to build a regression model that predicts the fire area. The columns in the file are as follows. \n",
    "\n",
    "    X - x-axis spatial coordinate within the Montesinho park map: 1 to 9\n",
    "    Y - y-axis spatial coordinate within the Montesinho park map: 2 to 9\n",
    "    month - month of the year: 'jan' to 'dec'\n",
    "    day - day of the week: 'mon' to 'sun'\n",
    "    FFMC - FFMC index from the FWI system: 18.7 to 96.20\n",
    "    DMC - DMC index from the FWI system: 1.1 to 291.3\n",
    "    DC - DC index from the FWI system: 7.9 to 860.6\n",
    "    ISI - ISI index from the FWI system: 0.0 to 56.10\n",
    "    temp - temperature in Celsius degrees: 2.2 to 33.30\n",
    "    RH - relative humidity in %: 15.0 to 100\n",
    "    wind - wind speed in km/h: 0.40 to 9.40\n",
    "    rain - outside rain in mm/m2 : 0.0 to 6.4\n",
    "    area - the burned area of the forest (in ha): 0.00 to 1090.84 (this output variable is very skewed towards 0.0, thus it may make sense to model with the logarithm transform).\n"
   ]
  },
  {
   "cell_type": "code",
   "execution_count": 1,
   "metadata": {},
   "outputs": [],
   "source": [
    "# Run this cell first\n",
    "from datascience import * \n",
    "%matplotlib inline\n",
    "import matplotlib.pyplot as plots\n",
    "plots.style.use('fivethirtyeight')\n",
    "from scipy.stats import pearsonr\n",
    "import numpy as np"
   ]
  },
  {
   "cell_type": "markdown",
   "metadata": {},
   "source": [
    "**Question 1 (5 Points)**. Load the data. We want to use the first 80% of the data for training and the last 20% for testing. "
   ]
  },
  {
   "cell_type": "code",
   "execution_count": 6,
   "metadata": {},
   "outputs": [],
   "source": [
    "data=Table.read_table('forestfires.csv')\n",
    "month_class=data.select('month').group('month').column('month')\n",
    "day_class=data.select('day').group('day').column('day')"
   ]
  },
  {
   "cell_type": "code",
   "execution_count": 10,
   "metadata": {},
   "outputs": [
    {
     "data": {
      "text/html": [
       "<table border=\"1\" class=\"dataframe\">\n",
       "    <thead>\n",
       "        <tr>\n",
       "            <th>X</th> <th>Y</th> <th>month</th> <th>day</th> <th>FFMC</th> <th>DMC</th> <th>DC</th> <th>ISI</th> <th>temp</th> <th>RH</th> <th>wind</th> <th>rain</th> <th>area</th>\n",
       "        </tr>\n",
       "    </thead>\n",
       "    <tbody>\n",
       "        <tr>\n",
       "            <td>7   </td> <td>5   </td> <td>mar  </td> <td>fri </td> <td>86.2</td> <td>26.2 </td> <td>94.3 </td> <td>5.1 </td> <td>8.2 </td> <td>51  </td> <td>6.7 </td> <td>0   </td> <td>0   </td>\n",
       "        </tr>\n",
       "        <tr>\n",
       "            <td>7   </td> <td>4   </td> <td>oct  </td> <td>tue </td> <td>90.6</td> <td>35.4 </td> <td>669.1</td> <td>6.7 </td> <td>18  </td> <td>33  </td> <td>0.9 </td> <td>0   </td> <td>0   </td>\n",
       "        </tr>\n",
       "        <tr>\n",
       "            <td>7   </td> <td>4   </td> <td>oct  </td> <td>sat </td> <td>90.6</td> <td>43.7 </td> <td>686.9</td> <td>6.7 </td> <td>14.6</td> <td>33  </td> <td>1.3 </td> <td>0   </td> <td>0   </td>\n",
       "        </tr>\n",
       "        <tr>\n",
       "            <td>8   </td> <td>6   </td> <td>mar  </td> <td>fri </td> <td>91.7</td> <td>33.3 </td> <td>77.5 </td> <td>9   </td> <td>8.3 </td> <td>97  </td> <td>4   </td> <td>0.2 </td> <td>0   </td>\n",
       "        </tr>\n",
       "        <tr>\n",
       "            <td>8   </td> <td>6   </td> <td>mar  </td> <td>sun </td> <td>89.3</td> <td>51.3 </td> <td>102.2</td> <td>9.6 </td> <td>11.4</td> <td>99  </td> <td>1.8 </td> <td>0   </td> <td>0   </td>\n",
       "        </tr>\n",
       "        <tr>\n",
       "            <td>8   </td> <td>6   </td> <td>aug  </td> <td>sun </td> <td>92.3</td> <td>85.3 </td> <td>488  </td> <td>14.7</td> <td>22.2</td> <td>29  </td> <td>5.4 </td> <td>0   </td> <td>0   </td>\n",
       "        </tr>\n",
       "        <tr>\n",
       "            <td>8   </td> <td>6   </td> <td>aug  </td> <td>mon </td> <td>92.3</td> <td>88.9 </td> <td>495.6</td> <td>8.5 </td> <td>24.1</td> <td>27  </td> <td>3.1 </td> <td>0   </td> <td>0   </td>\n",
       "        </tr>\n",
       "        <tr>\n",
       "            <td>8   </td> <td>6   </td> <td>aug  </td> <td>mon </td> <td>91.5</td> <td>145.4</td> <td>608.2</td> <td>10.7</td> <td>8   </td> <td>86  </td> <td>2.2 </td> <td>0   </td> <td>0   </td>\n",
       "        </tr>\n",
       "        <tr>\n",
       "            <td>8   </td> <td>6   </td> <td>sep  </td> <td>tue </td> <td>91  </td> <td>129.5</td> <td>692.6</td> <td>7   </td> <td>13.1</td> <td>63  </td> <td>5.4 </td> <td>0   </td> <td>0   </td>\n",
       "        </tr>\n",
       "        <tr>\n",
       "            <td>7   </td> <td>5   </td> <td>sep  </td> <td>sat </td> <td>92.5</td> <td>88   </td> <td>698.6</td> <td>7.1 </td> <td>22.8</td> <td>40  </td> <td>4   </td> <td>0   </td> <td>0   </td>\n",
       "        </tr>\n",
       "    </tbody>\n",
       "</table>\n",
       "<p>... (507 rows omitted)</p>"
      ],
      "text/plain": [
       "X    | Y    | month | day  | FFMC | DMC   | DC    | ISI  | temp | RH   | wind | rain | area\n",
       "7    | 5    | mar   | fri  | 86.2 | 26.2  | 94.3  | 5.1  | 8.2  | 51   | 6.7  | 0    | 0\n",
       "7    | 4    | oct   | tue  | 90.6 | 35.4  | 669.1 | 6.7  | 18   | 33   | 0.9  | 0    | 0\n",
       "7    | 4    | oct   | sat  | 90.6 | 43.7  | 686.9 | 6.7  | 14.6 | 33   | 1.3  | 0    | 0\n",
       "8    | 6    | mar   | fri  | 91.7 | 33.3  | 77.5  | 9    | 8.3  | 97   | 4    | 0.2  | 0\n",
       "8    | 6    | mar   | sun  | 89.3 | 51.3  | 102.2 | 9.6  | 11.4 | 99   | 1.8  | 0    | 0\n",
       "8    | 6    | aug   | sun  | 92.3 | 85.3  | 488   | 14.7 | 22.2 | 29   | 5.4  | 0    | 0\n",
       "8    | 6    | aug   | mon  | 92.3 | 88.9  | 495.6 | 8.5  | 24.1 | 27   | 3.1  | 0    | 0\n",
       "8    | 6    | aug   | mon  | 91.5 | 145.4 | 608.2 | 10.7 | 8    | 86   | 2.2  | 0    | 0\n",
       "8    | 6    | sep   | tue  | 91   | 129.5 | 692.6 | 7    | 13.1 | 63   | 5.4  | 0    | 0\n",
       "7    | 5    | sep   | sat  | 92.5 | 88    | 698.6 | 7.1  | 22.8 | 40   | 4    | 0    | 0\n",
       "... (507 rows omitted)"
      ]
     },
     "execution_count": 10,
     "metadata": {},
     "output_type": "execute_result"
    }
   ],
   "source": [
    "data"
   ]
  },
  {
   "cell_type": "code",
   "execution_count": 13,
   "metadata": {},
   "outputs": [
    {
     "data": {
      "text/html": [
       "<table border=\"1\" class=\"dataframe\">\n",
       "    <thead>\n",
       "        <tr>\n",
       "            <th>X</th> <th>Y</th> <th>FFMC</th> <th>DMC</th> <th>DC</th> <th>ISI</th> <th>temp</th> <th>RH</th> <th>wind</th> <th>rain</th> <th>area</th> <th>apr</th> <th>aug</th> <th>dec</th> <th>feb</th> <th>jan</th> <th>jul</th> <th>jun</th> <th>mar</th> <th>may</th> <th>nov</th> <th>oct</th> <th>sep</th> <th>fri</th> <th>mon</th> <th>sat</th> <th>sun</th> <th>thu</th> <th>tue</th> <th>wed</th>\n",
       "        </tr>\n",
       "    </thead>\n",
       "    <tbody>\n",
       "        <tr>\n",
       "            <td>4   </td> <td>4   </td> <td>83  </td> <td>23.3</td> <td>85.3 </td> <td>2.3 </td> <td>16.7</td> <td>20  </td> <td>3.1 </td> <td>0   </td> <td>0   </td> <td>1   </td> <td>0   </td> <td>0   </td> <td>0   </td> <td>0   </td> <td>0   </td> <td>0   </td> <td>0   </td> <td>0   </td> <td>0   </td> <td>0   </td> <td>0   </td> <td>1   </td> <td>0   </td> <td>0   </td> <td>0   </td> <td>0   </td> <td>0   </td> <td>0   </td>\n",
       "        </tr>\n",
       "        <tr>\n",
       "            <td>6   </td> <td>5   </td> <td>63.5</td> <td>70.8</td> <td>665.3</td> <td>0.8 </td> <td>17  </td> <td>72  </td> <td>6.7 </td> <td>0   </td> <td>0   </td> <td>0   </td> <td>1   </td> <td>0   </td> <td>0   </td> <td>0   </td> <td>0   </td> <td>0   </td> <td>0   </td> <td>0   </td> <td>0   </td> <td>0   </td> <td>0   </td> <td>1   </td> <td>0   </td> <td>0   </td> <td>0   </td> <td>0   </td> <td>0   </td> <td>0   </td>\n",
       "        </tr>\n",
       "        <tr>\n",
       "            <td>1   </td> <td>2   </td> <td>90.1</td> <td>108 </td> <td>529.8</td> <td>12.5</td> <td>14.7</td> <td>66  </td> <td>2.7 </td> <td>0   </td> <td>0   </td> <td>0   </td> <td>1   </td> <td>0   </td> <td>0   </td> <td>0   </td> <td>0   </td> <td>0   </td> <td>0   </td> <td>0   </td> <td>0   </td> <td>0   </td> <td>0   </td> <td>1   </td> <td>0   </td> <td>0   </td> <td>0   </td> <td>0   </td> <td>0   </td> <td>0   </td>\n",
       "        </tr>\n",
       "    </tbody>\n",
       "</table>\n",
       "<p>... (514 rows omitted)</p>"
      ],
      "text/plain": [
       "<IPython.core.display.HTML object>"
      ]
     },
     "metadata": {},
     "output_type": "display_data"
    }
   ],
   "source": [
    "data2 = data\n",
    "for i in np.arange(0,len(month_class)):\n",
    "    labels = np.zeros(len(month_class))\n",
    "    labels[i] = 1\n",
    "    tmp_table = Table().with_columns('class',month_class,month_class[i],labels)\n",
    "    data2 = data2.join('month',tmp_table,'class')\n",
    "\n",
    "for i in np.arange(0,len(day_class)):\n",
    "    labels = np.zeros(len(day_class))\n",
    "    labels[i] = 1\n",
    "    tmp_table = Table().with_columns('class',day_class,day_class[i],labels)\n",
    "    data2 = data2.join('day',tmp_table,'class')\n",
    "    \n",
    "data2 = data2.drop('month','day')\n",
    "data2.show(3)"
   ]
  },
  {
   "cell_type": "code",
   "execution_count": 18,
   "metadata": {},
   "outputs": [],
   "source": [
    "train,test=data2.split(int(data.num_rows*0.8))"
   ]
  },
  {
   "cell_type": "markdown",
   "metadata": {},
   "source": [
    "**Question 2 (15 Points)** Build a linear regression model to predict area of forest fires using all features. Print the weigths of each feature and bias value."
   ]
  },
  {
   "cell_type": "code",
   "execution_count": 17,
   "metadata": {},
   "outputs": [],
   "source": [
    "def predict_price(weights, bias, x):\n",
    "    return sum(weights*x) + bias"
   ]
  },
  {
   "cell_type": "code",
   "execution_count": 19,
   "metadata": {},
   "outputs": [],
   "source": [
    "train_areas = train.column('area')  #array\n",
    "train_features = train.drop('area')  #table"
   ]
  },
  {
   "cell_type": "code",
   "execution_count": 20,
   "metadata": {},
   "outputs": [],
   "source": [
    "def rmse(weights, bias, features, prices):\n",
    "    errors = []\n",
    "    for i in np.arange(len(prices)):\n",
    "        predicted = predict_price(weights,bias, np.array(features.row(i)))\n",
    "        actual = prices.item(i)\n",
    "        errors.append((predicted - actual) ** 2)\n",
    "    return np.mean(errors) ** 0.5"
   ]
  },
  {
   "cell_type": "code",
   "execution_count": 23,
   "metadata": {},
   "outputs": [],
   "source": [
    "def rmse_train(weights):\n",
    "    return rmse(weights[0:len(weights)-1],weights[len(weights)-1], train_features, train_areas)"
   ]
  },
  {
   "cell_type": "code",
   "execution_count": 24,
   "metadata": {},
   "outputs": [
    {
     "name": "stdout",
     "output_type": "stream",
     "text": [
      "The best slopes for the training set:\n"
     ]
    },
    {
     "data": {
      "text/html": [
       "<table border=\"1\" class=\"dataframe\">\n",
       "    <thead>\n",
       "        <tr>\n",
       "            <th>X</th> <th>Y</th> <th>FFMC</th> <th>DMC</th> <th>DC</th> <th>ISI</th> <th>temp</th> <th>RH</th> <th>wind</th> <th>rain</th> <th>apr</th> <th>aug</th> <th>dec</th> <th>feb</th> <th>jan</th> <th>jul</th> <th>jun</th> <th>mar</th> <th>may</th> <th>nov</th> <th>oct</th> <th>sep</th> <th>fri</th> <th>mon</th> <th>sat</th> <th>sun</th> <th>thu</th> <th>tue</th> <th>wed</th> <th>bias</th>\n",
       "        </tr>\n",
       "    </thead>\n",
       "    <tbody>\n",
       "        <tr>\n",
       "            <td>2.75341</td> <td>0.0435671</td> <td>0.21177</td> <td>0.229855</td> <td>-0.146933</td> <td>-0.472837</td> <td>1.10813</td> <td>-0.235157</td> <td>1.7195</td> <td>-2.45874</td> <td>-31.5072</td> <td>27.8959</td> <td>24.3832</td> <td>-17.1299</td> <td>-26.9405</td> <td>13.6388</td> <td>-19.8975</td> <td>-32.2866</td> <td>-13.0747</td> <td>-26.7657</td> <td>51.288</td> <td>58.0695</td> <td>-6.34157</td> <td>1.07384</td> <td>16.0532</td> <td>-5.82395</td> <td>5.49572</td> <td>-1.20193</td> <td>-6.56449</td> <td>-3.32168</td>\n",
       "        </tr>\n",
       "    </tbody>\n",
       "</table>"
      ],
      "text/plain": [
       "<IPython.core.display.HTML object>"
      ]
     },
     "metadata": {},
     "output_type": "display_data"
    },
    {
     "name": "stdout",
     "output_type": "stream",
     "text": [
      "RMSE of all training examples using the best slopes: 67.82695528679277\n"
     ]
    }
   ],
   "source": [
    "initial_weights = np.ones( len(train_features.row(0) )+1)\n",
    "\n",
    "#minimize fonksyonu ile elde edilen weightler\n",
    "learned_weights = minimize(rmse_train, start=initial_weights, smooth=True, array=True)\n",
    "\n",
    "print('The best slopes for the training set:')\n",
    "features_names = np.append(train_features.labels,'bias')\n",
    "Table(features_names).with_row(list(learned_weights)).show()\n",
    "\n",
    "print('RMSE of all training examples using the best slopes:', rmse_train(learned_weights))"
   ]
  },
  {
   "cell_type": "markdown",
   "metadata": {},
   "source": [
    "**Question 3 (15 Points)** We want to know which feautures are correlated each other. Calculate pearson correlation between each feature pair. Print the results in a matrix format (the diagonals should be 1)."
   ]
  },
  {
   "cell_type": "code",
   "execution_count": 40,
   "metadata": {},
   "outputs": [],
   "source": [
    "Matrix = [[pearsonr(train_features.column(i),train_features.column(j))[0] for i in np.arange(len(train_features.labels))] for j in np.arange(len(train_features.labels))]\n",
    "matrix_table=Table(train_features.labels)\n",
    "\n",
    "for i in np.arange(len(train_features.labels)):\n",
    "    matrix_table=matrix_table.with_row(list(Matrix[i]))\n"
   ]
  },
  {
   "cell_type": "code",
   "execution_count": 42,
   "metadata": {},
   "outputs": [
    {
     "data": {
      "text/html": [
       "<table border=\"1\" class=\"dataframe\">\n",
       "    <thead>\n",
       "        <tr>\n",
       "            <th>X</th> <th>Y</th> <th>FFMC</th> <th>DMC</th> <th>DC</th> <th>ISI</th> <th>temp</th> <th>RH</th> <th>wind</th> <th>rain</th> <th>apr</th> <th>aug</th> <th>dec</th> <th>feb</th> <th>jan</th> <th>jul</th> <th>jun</th> <th>mar</th> <th>may</th> <th>nov</th> <th>oct</th> <th>sep</th> <th>fri</th> <th>mon</th> <th>sat</th> <th>sun</th> <th>thu</th> <th>tue</th> <th>wed</th>\n",
       "        </tr>\n",
       "    </thead>\n",
       "    <tbody>\n",
       "        <tr>\n",
       "            <td>1         </td> <td>0.530113   </td> <td>-0.0357917 </td> <td>-0.0103306 </td> <td>-0.0772409</td> <td>-0.0241371 </td> <td>-0.0669356</td> <td>0.0993985  </td> <td>0.0403303  </td> <td>0.0809352  </td> <td>0.0780156  </td> <td>-0.0350897</td> <td>0.00854172 </td> <td>0.0363699  </td> <td>-0.0538299 </td> <td>0.0514758  </td> <td>0.108693   </td> <td>0.00545336</td> <td>0.0157337  </td> <td>0.0327592  </td> <td>0.0901702  </td> <td>-0.103218 </td> <td>-0.0505909 </td> <td>0.036501   </td> <td>0.0169414 </td> <td>-0.0600415 </td> <td>-0.0117728</td> <td>0.0148926  </td> <td>0.0697063 </td>\n",
       "        </tr>\n",
       "        <tr>\n",
       "            <td>0.530113  </td> <td>1          </td> <td>-0.0260394 </td> <td>0.0486021  </td> <td>-0.0758083</td> <td>-0.0159348 </td> <td>-0.0167555</td> <td>0.0508049  </td> <td>0.0191882  </td> <td>0.0419085  </td> <td>0.0146118  </td> <td>0.0262867 </td> <td>0.0739206  </td> <td>-0.0511023 </td> <td>-0.0104705 </td> <td>0.0607627  </td> <td>0.0970676  </td> <td>0.0481744 </td> <td>-0.0148255 </td> <td>-0.0520503 </td> <td>-0.0351559 </td> <td>-0.110605 </td> <td>-0.0761121 </td> <td>0.0173001  </td> <td>0.01034   </td> <td>-0.028835  </td> <td>0.0193415 </td> <td>-0.00362522</td> <td>0.0806525 </td>\n",
       "        </tr>\n",
       "        <tr>\n",
       "            <td>-0.0357917</td> <td>-0.0260394 </td> <td>1          </td> <td>0.396743   </td> <td>0.360603  </td> <td>0.64644    </td> <td>0.456054  </td> <td>-0.252286  </td> <td>-0.104632  </td> <td>0.0713877  </td> <td>-0.163959  </td> <td>0.270168  </td> <td>-0.166887  </td> <td>-0.335407  </td> <td>-0.0886557 </td> <td>0.0162477  </td> <td>-0.0760959 </td> <td>-0.0995258</td> <td>-0.0492187 </td> <td>-0.115347  </td> <td>-0.00249694</td> <td>0.0638747 </td> <td>0.00252989 </td> <td>-0.107021  </td> <td>-0.0516326</td> <td>-0.0120804 </td> <td>0.0588916 </td> <td>0.00471689 </td> <td>0.126117  </td>\n",
       "        </tr>\n",
       "        <tr>\n",
       "            <td>-0.0103306</td> <td>0.0486021  </td> <td>0.396743   </td> <td>1          </td> <td>0.695748  </td> <td>0.334986   </td> <td>0.465616  </td> <td>0.121964   </td> <td>-0.150409  </td> <td>0.0806306  </td> <td>-0.209151  </td> <td>0.501085  </td> <td>-0.18765   </td> <td>-0.296502  </td> <td>-0.0827246 </td> <td>0.0186327  </td> <td>-0.0557266 </td> <td>-0.424646 </td> <td>-0.0923705 </td> <td>-0.0832568 </td> <td>-0.178424  </td> <td>0.10278   </td> <td>-0.0466028 </td> <td>-0.147485  </td> <td>-0.0115224</td> <td>0.0759467  </td> <td>0.119571  </td> <td>-0.00239231</td> <td>0.0234951 </td>\n",
       "        </tr>\n",
       "        <tr>\n",
       "            <td>-0.0772409</td> <td>-0.0758083 </td> <td>0.360603   </td> <td>0.695748   </td> <td>1         </td> <td>0.310284   </td> <td>0.49979   </td> <td>-0.0134172 </td> <td>-0.250767  </td> <td>0.0403531  </td> <td>-0.280427  </td> <td>0.298465  </td> <td>-0.110946  </td> <td>-0.364331  </td> <td>-0.106655  </td> <td>-0.0929711 </td> <td>-0.169593  </td> <td>-0.669985 </td> <td>-0.1273    </td> <td>-0.087337  </td> <td>0.0913372  </td> <td>0.51514   </td> <td>-0.0419475 </td> <td>-0.0694226 </td> <td>-0.0340239</td> <td>0.0398968  </td> <td>0.0765573 </td> <td>0.0145859  </td> <td>0.0271583 </td>\n",
       "        </tr>\n",
       "        <tr>\n",
       "            <td>-0.0241371</td> <td>-0.0159348 </td> <td>0.64644    </td> <td>0.334986   </td> <td>0.310284  </td> <td>1          </td> <td>0.445814  </td> <td>-0.112952  </td> <td>0.0722512  </td> <td>0.0828252  </td> <td>-0.154585  </td> <td>0.406754  </td> <td>-0.204334  </td> <td>-0.271685  </td> <td>-0.0734151 </td> <td>0.030646   </td> <td>-0.00203346</td> <td>-0.166378 </td> <td>-0.0752487 </td> <td>-0.0948784 </td> <td>-0.0586931 </td> <td>-0.0634771</td> <td>0.0358406  </td> <td>-0.207271  </td> <td>-0.0612626</td> <td>-0.0199006 </td> <td>-0.0398958</td> <td>0.117036   </td> <td>0.192392  </td>\n",
       "        </tr>\n",
       "        <tr>\n",
       "            <td>-0.0669356</td> <td>-0.0167555 </td> <td>0.456054   </td> <td>0.465616   </td> <td>0.49979   </td> <td>0.445814   </td> <td>1         </td> <td>-0.504178  </td> <td>-0.271139  </td> <td>0.0776373  </td> <td>-0.167427  </td> <td>0.358701  </td> <td>-0.343335  </td> <td>-0.283579  </td> <td>-0.113535  </td> <td>0.101167   </td> <td>0.0547469  </td> <td>-0.347079 </td> <td>-0.0496912 </td> <td>-0.0590041 </td> <td>-0.0600881 </td> <td>0.0990467 </td> <td>-0.0848638 </td> <td>-0.172171  </td> <td>0.0231741 </td> <td>0.0464547  </td> <td>0.0575197 </td> <td>0.0288741  </td> <td>0.118706  </td>\n",
       "        </tr>\n",
       "        <tr>\n",
       "            <td>0.0993985 </td> <td>0.0508049  </td> <td>-0.252286  </td> <td>0.121964   </td> <td>-0.0134172</td> <td>-0.112952  </td> <td>-0.504178 </td> <td>1          </td> <td>0.0909023  </td> <td>0.11148    </td> <td>0.0368351  </td> <td>0.0820644 </td> <td>-0.0710807 </td> <td>0.128199   </td> <td>0.101809   </td> <td>0.0670063  </td> <td>0.023643   </td> <td>-0.13213  </td> <td>0.0970196  </td> <td>-0.0404261 </td> <td>-0.0581417 </td> <td>-0.0785573</td> <td>0.0929878  </td> <td>0.025168   </td> <td>-0.0418563</td> <td>0.105211   </td> <td>-0.117033 </td> <td>-0.00103725</td> <td>-0.101873 </td>\n",
       "        </tr>\n",
       "        <tr>\n",
       "            <td>0.0403303 </td> <td>0.0191882  </td> <td>-0.104632  </td> <td>-0.150409  </td> <td>-0.250767 </td> <td>0.0722512  </td> <td>-0.271139 </td> <td>0.0909023  </td> <td>1          </td> <td>0.0671714  </td> <td>0.000227605</td> <td>-0.0145695</td> <td>0.27723    </td> <td>0.0296249  </td> <td>-0.0272623 </td> <td>-0.00313241</td> <td>0.0183326  </td> <td>0.200124  </td> <td>0.0150032  </td> <td>0.0119981  </td> <td>-0.0119299 </td> <td>-0.21494  </td> <td>0.134428   </td> <td>-0.0432394 </td> <td>-0.0802966</td> <td>-0.00783063</td> <td>-0.0566211</td> <td>0.0547967  </td> <td>-0.0141027</td>\n",
       "        </tr>\n",
       "        <tr>\n",
       "            <td>0.0809352 </td> <td>0.0419085  </td> <td>0.0713877  </td> <td>0.0806306  </td> <td>0.0403531 </td> <td>0.0828252  </td> <td>0.0776373 </td> <td>0.11148    </td> <td>0.0671714  </td> <td>1          </td> <td>-0.0115292 </td> <td>0.100324  </td> <td>-0.0115292 </td> <td>-0.0153659 </td> <td>-0.0040414 </td> <td>-0.0141144 </td> <td>-0.0141905 </td> <td>-0.0243858</td> <td>-0.00572235</td> <td>-0.0040414 </td> <td>-0.0135695 </td> <td>-0.056223 </td> <td>-0.00680581</td> <td>-0.0324893 </td> <td>-0.0364188</td> <td>-0.0188099 </td> <td>-0.0283265</td> <td>0.150679   </td> <td>-0.0243858</td>\n",
       "        </tr>\n",
       "        <tr>\n",
       "            <td>0.0780156 </td> <td>0.0146118  </td> <td>-0.163959  </td> <td>-0.209151  </td> <td>-0.280427 </td> <td>-0.154585  </td> <td>-0.167427 </td> <td>0.0368351  </td> <td>0.000227605</td> <td>-0.0115292 </td> <td>1          </td> <td>-0.108375 </td> <td>-0.0197531 </td> <td>-0.0263266 </td> <td>-0.00692419</td> <td>-0.0349099 </td> <td>-0.0243129 </td> <td>-0.0497581</td> <td>-0.00980419</td> <td>-0.00692419</td> <td>-0.0232488 </td> <td>-0.0963277</td> <td>-0.0182756 </td> <td>-0.00434878</td> <td>-0.0150257</td> <td>0.0269862  </td> <td>0.0653531 </td> <td>-0.0545089 </td> <td>0.00608454</td>\n",
       "        </tr>\n",
       "        <tr>\n",
       "            <td>-0.0350897</td> <td>0.0262867  </td> <td>0.270168   </td> <td>0.501085   </td> <td>0.298465  </td> <td>0.406754   </td> <td>0.358701  </td> <td>0.0820644  </td> <td>-0.0145695 </td> <td>0.100324   </td> <td>-0.108375  </td> <td>1         </td> <td>-0.108375  </td> <td>-0.14444   </td> <td>-0.0379894 </td> <td>-0.191532  </td> <td>-0.133392  </td> <td>-0.272996 </td> <td>-0.0537904 </td> <td>-0.0379894 </td> <td>-0.127554  </td> <td>-0.528499 </td> <td>-0.116766  </td> <td>-0.159146  </td> <td>-0.0183069</td> <td>0.0889912  </td> <td>0.0583155 </td> <td>0.072248   </td> <td>0.0930668 </td>\n",
       "        </tr>\n",
       "        <tr>\n",
       "            <td>0.00854172</td> <td>0.0739206  </td> <td>-0.166887  </td> <td>-0.18765   </td> <td>-0.110946 </td> <td>-0.204334  </td> <td>-0.343335 </td> <td>-0.0710807 </td> <td>0.27723    </td> <td>-0.0115292 </td> <td>-0.0197531 </td> <td>-0.108375 </td> <td>1          </td> <td>-0.0263266 </td> <td>-0.00692419</td> <td>-0.0349099 </td> <td>-0.0243129 </td> <td>-0.0497581</td> <td>-0.00980419</td> <td>-0.00692419</td> <td>-0.0232488 </td> <td>-0.0963277</td> <td>-0.0182756 </td> <td>0.149598   </td> <td>-0.0623968</td> <td>-0.0651238 </td> <td>0.00841042</td> <td>-0.00239738</td> <td>0.00608454</td>\n",
       "        </tr>\n",
       "        <tr>\n",
       "            <td>0.0363699 </td> <td>-0.0511023 </td> <td>-0.335407  </td> <td>-0.296502  </td> <td>-0.364331 </td> <td>-0.271685  </td> <td>-0.283579 </td> <td>0.128199   </td> <td>0.0296249  </td> <td>-0.0153659 </td> <td>-0.0263266 </td> <td>-0.14444  </td> <td>-0.0263266 </td> <td>1          </td> <td>-0.00922845</td> <td>-0.0465274 </td> <td>-0.0324038 </td> <td>-0.0663168</td> <td>-0.0130669 </td> <td>-0.00922845</td> <td>-0.0309857 </td> <td>-0.128384 </td> <td>0.054991   </td> <td>0.00397439 </td> <td>0.0250708 </td> <td>0.0184293  </td> <td>-0.0646831</td> <td>0.00672672 </td> <td>-0.0663168</td>\n",
       "        </tr>\n",
       "        <tr>\n",
       "            <td>-0.0538299</td> <td>-0.0104705 </td> <td>-0.0886557 </td> <td>-0.0827246 </td> <td>-0.106655 </td> <td>-0.0734151 </td> <td>-0.113535 </td> <td>0.101809   </td> <td>-0.0272623 </td> <td>-0.0040414 </td> <td>-0.00692419</td> <td>-0.0379894</td> <td>-0.00692419</td> <td>-0.00922845</td> <td>1          </td> <td>-0.0122372 </td> <td>-0.00852256</td> <td>-0.017442 </td> <td>-0.00343673</td> <td>-0.00242718</td> <td>-0.00814957</td> <td>-0.0337664</td> <td>-0.0226381 </td> <td>-0.0195124 </td> <td>0.11097   </td> <td>-0.0228283 </td> <td>-0.0170124</td> <td>-0.0191074 </td> <td>-0.017442 </td>\n",
       "        </tr>\n",
       "        <tr>\n",
       "            <td>0.0514758 </td> <td>0.0607627  </td> <td>0.0162477  </td> <td>0.0186327  </td> <td>-0.0929711</td> <td>0.030646   </td> <td>0.101167  </td> <td>0.0670063  </td> <td>-0.00313241</td> <td>-0.0141144 </td> <td>-0.0349099 </td> <td>-0.191532 </td> <td>-0.0349099 </td> <td>-0.0465274 </td> <td>-0.0122372 </td> <td>1          </td> <td>-0.0429684 </td> <td>-0.087938 </td> <td>-0.0173271 </td> <td>-0.0122372 </td> <td>-0.0410879 </td> <td>-0.170241 </td> <td>-0.0322987 </td> <td>-0.0379159 </td> <td>0.0292579 </td> <td>-0.00656929</td> <td>-0.0522265</td> <td>0.0878604  </td> <td>0.0107533 </td>\n",
       "        </tr>\n",
       "        <tr>\n",
       "            <td>0.108693  </td> <td>0.0970676  </td> <td>-0.0760959 </td> <td>-0.0557266 </td> <td>-0.169593 </td> <td>-0.00203346</td> <td>0.0547469 </td> <td>0.023643   </td> <td>0.0183326  </td> <td>-0.0141905 </td> <td>-0.0243129 </td> <td>-0.133392 </td> <td>-0.0243129 </td> <td>-0.0324038 </td> <td>-0.00852256</td> <td>-0.0429684 </td> <td>1          </td> <td>-0.0612441</td> <td>-0.0120674 </td> <td>-0.00852256</td> <td>-0.0286155 </td> <td>-0.118564 </td> <td>0.0345005  </td> <td>0.0157011  </td> <td>-0.0379296</td> <td>-0.00457516</td> <td>0.0337143 </td> <td>-0.0670916 </td> <td>0.0304002 </td>\n",
       "        </tr>\n",
       "        <tr>\n",
       "            <td>0.00545336</td> <td>0.0481744  </td> <td>-0.0995258 </td> <td>-0.424646  </td> <td>-0.669985 </td> <td>-0.166378  </td> <td>-0.347079 </td> <td>-0.13213   </td> <td>0.200124   </td> <td>-0.0243858 </td> <td>-0.0497581 </td> <td>-0.272996 </td> <td>-0.0497581 </td> <td>-0.0663168 </td> <td>-0.017442  </td> <td>-0.087938  </td> <td>-0.0612441 </td> <td>1         </td> <td>-0.0246968 </td> <td>-0.017442  </td> <td>-0.0585638 </td> <td>-0.24265  </td> <td>0.0604648  </td> <td>0.0845884  </td> <td>0.0295964 </td> <td>-0.0631663 </td> <td>-0.0474153</td> <td>-0.0459904 </td> <td>-0.0274849</td>\n",
       "        </tr>\n",
       "        <tr>\n",
       "            <td>0.0157337 </td> <td>-0.0148255 </td> <td>-0.0492187 </td> <td>-0.0923705 </td> <td>-0.1273   </td> <td>-0.0752487 </td> <td>-0.0496912</td> <td>0.0970196  </td> <td>0.0150032  </td> <td>-0.00572235</td> <td>-0.00980419</td> <td>-0.0537904</td> <td>-0.00980419</td> <td>-0.0130669 </td> <td>-0.00343673</td> <td>-0.0173271 </td> <td>-0.0120674 </td> <td>-0.0246968</td> <td>1          </td> <td>-0.00343673</td> <td>-0.0115392 </td> <td>-0.047811 </td> <td>0.0598788  </td> <td>-0.0276283 </td> <td>0.0630783 </td> <td>-0.0323233 </td> <td>-0.0240884</td> <td>-0.0270548 </td> <td>-0.0246968</td>\n",
       "        </tr>\n",
       "        <tr>\n",
       "            <td>0.0327592 </td> <td>-0.0520503 </td> <td>-0.115347  </td> <td>-0.0832568 </td> <td>-0.087337 </td> <td>-0.0948784 </td> <td>-0.0590041</td> <td>-0.0404261 </td> <td>0.0119981  </td> <td>-0.0040414 </td> <td>-0.00692419</td> <td>-0.0379894</td> <td>-0.00692419</td> <td>-0.00922845</td> <td>-0.00242718</td> <td>-0.0122372 </td> <td>-0.00852256</td> <td>-0.017442 </td> <td>-0.00343673</td> <td>1          </td> <td>-0.00814957</td> <td>-0.0337664</td> <td>-0.0226381 </td> <td>-0.0195124 </td> <td>-0.0218724</td> <td>-0.0228283 </td> <td>-0.0170124</td> <td>0.127029   </td> <td>-0.017442 </td>\n",
       "        </tr>\n",
       "        <tr>\n",
       "            <td>0.0901702 </td> <td>-0.0351559 </td> <td>-0.00249694</td> <td>-0.178424  </td> <td>0.0913372 </td> <td>-0.0586931 </td> <td>-0.0600881</td> <td>-0.0581417 </td> <td>-0.0119299 </td> <td>-0.0135695 </td> <td>-0.0232488 </td> <td>-0.127554 </td> <td>-0.0232488 </td> <td>-0.0309857 </td> <td>-0.00814957</td> <td>-0.0410879 </td> <td>-0.0286155 </td> <td>-0.0585638</td> <td>-0.0115392 </td> <td>-0.00814957</td> <td>1          </td> <td>-0.113375 </td> <td>-0.0363736 </td> <td>0.0662599  </td> <td>0.0482068 </td> <td>0.00219542 </td> <td>-0.0571211</td> <td>-0.019549  </td> <td>-0.0107637</td>\n",
       "        </tr>\n",
       "        <tr>\n",
       "            <td>-0.103218 </td> <td>-0.110605  </td> <td>0.0638747  </td> <td>0.10278    </td> <td>0.51514   </td> <td>-0.0634771 </td> <td>0.0990467 </td> <td>-0.0785573 </td> <td>-0.21494   </td> <td>-0.056223  </td> <td>-0.0963277 </td> <td>-0.528499 </td> <td>-0.0963277 </td> <td>-0.128384  </td> <td>-0.0337664 </td> <td>-0.170241  </td> <td>-0.118564  </td> <td>-0.24265  </td> <td>-0.047811  </td> <td>-0.0337664 </td> <td>-0.113375  </td> <td>1         </td> <td>0.0819484  </td> <td>0.0622078  </td> <td>-0.0242722</td> <td>-0.0317384 </td> <td>0.01577   </td> <td>-0.050195  </td> <td>-0.061102 </td>\n",
       "        </tr>\n",
       "        <tr>\n",
       "            <td>-0.0505909</td> <td>-0.0761121 </td> <td>0.00252989 </td> <td>-0.0466028 </td> <td>-0.0419475</td> <td>0.0358406  </td> <td>-0.0848638</td> <td>0.0929878  </td> <td>0.134428   </td> <td>-0.00680581</td> <td>-0.0182756 </td> <td>-0.116766 </td> <td>-0.0182756 </td> <td>0.054991   </td> <td>-0.0226381 </td> <td>-0.0322987 </td> <td>0.0345005  </td> <td>0.0604648 </td> <td>0.0598788  </td> <td>-0.0226381 </td> <td>-0.0363736 </td> <td>0.0819484 </td> <td>1          </td> <td>-0.181991  </td> <td>-0.204002 </td> <td>-0.212917  </td> <td>-0.158673 </td> <td>-0.178213  </td> <td>-0.16268  </td>\n",
       "        </tr>\n",
       "        <tr>\n",
       "            <td>0.036501  </td> <td>0.0173001  </td> <td>-0.107021  </td> <td>-0.147485  </td> <td>-0.0694226</td> <td>-0.207271  </td> <td>-0.172171 </td> <td>0.025168   </td> <td>-0.0432394 </td> <td>-0.0324893 </td> <td>-0.00434878</td> <td>-0.159146 </td> <td>0.149598   </td> <td>0.00397439 </td> <td>-0.0195124 </td> <td>-0.0379159 </td> <td>0.0157011  </td> <td>0.0845884 </td> <td>-0.0276283 </td> <td>-0.0195124 </td> <td>0.0662599  </td> <td>0.0622078 </td> <td>-0.181991  </td> <td>1          </td> <td>-0.175835 </td> <td>-0.183519  </td> <td>-0.136764 </td> <td>-0.153606  </td> <td>-0.140219 </td>\n",
       "        </tr>\n",
       "        <tr>\n",
       "            <td>0.0169414 </td> <td>0.01034    </td> <td>-0.0516326 </td> <td>-0.0115224 </td> <td>-0.0340239</td> <td>-0.0612626 </td> <td>0.0231741 </td> <td>-0.0418563 </td> <td>-0.0802966 </td> <td>-0.0364188 </td> <td>-0.0150257 </td> <td>-0.0183069</td> <td>-0.0623968 </td> <td>0.0250708  </td> <td>0.11097    </td> <td>0.0292579  </td> <td>-0.0379296 </td> <td>0.0295964 </td> <td>0.0630783  </td> <td>-0.0218724 </td> <td>0.0482068  </td> <td>-0.0242722</td> <td>-0.204002  </td> <td>-0.175835  </td> <td>1         </td> <td>-0.205715  </td> <td>-0.153306 </td> <td>-0.172185  </td> <td>-0.157178 </td>\n",
       "        </tr>\n",
       "        <tr>\n",
       "            <td>-0.0600415</td> <td>-0.028835  </td> <td>-0.0120804 </td> <td>0.0759467  </td> <td>0.0398968 </td> <td>-0.0199006 </td> <td>0.0464547 </td> <td>0.105211   </td> <td>-0.00783063</td> <td>-0.0188099 </td> <td>0.0269862  </td> <td>0.0889912 </td> <td>-0.0651238 </td> <td>0.0184293  </td> <td>-0.0228283 </td> <td>-0.00656929</td> <td>-0.00457516</td> <td>-0.0631663</td> <td>-0.0323233 </td> <td>-0.0228283 </td> <td>0.00219542 </td> <td>-0.0317384</td> <td>-0.212917  </td> <td>-0.183519  </td> <td>-0.205715 </td> <td>1          </td> <td>-0.160006 </td> <td>-0.17971   </td> <td>-0.164047 </td>\n",
       "        </tr>\n",
       "        <tr>\n",
       "            <td>-0.0117728</td> <td>0.0193415  </td> <td>0.0588916  </td> <td>0.119571   </td> <td>0.0765573 </td> <td>-0.0398958 </td> <td>0.0575197 </td> <td>-0.117033  </td> <td>-0.0566211 </td> <td>-0.0283265 </td> <td>0.0653531  </td> <td>0.0583155 </td> <td>0.00841042 </td> <td>-0.0646831 </td> <td>-0.0170124 </td> <td>-0.0522265 </td> <td>0.0337143  </td> <td>-0.0474153</td> <td>-0.0240884 </td> <td>-0.0170124 </td> <td>-0.0571211 </td> <td>0.01577   </td> <td>-0.158673  </td> <td>-0.136764  </td> <td>-0.153306 </td> <td>-0.160006  </td> <td>1         </td> <td>-0.133925  </td> <td>-0.122253 </td>\n",
       "        </tr>\n",
       "        <tr>\n",
       "            <td>0.0148926 </td> <td>-0.00362522</td> <td>0.00471689 </td> <td>-0.00239231</td> <td>0.0145859 </td> <td>0.117036   </td> <td>0.0288741 </td> <td>-0.00103725</td> <td>0.0547967  </td> <td>0.150679   </td> <td>-0.0545089 </td> <td>0.072248  </td> <td>-0.00239738</td> <td>0.00672672 </td> <td>-0.0191074 </td> <td>0.0878604  </td> <td>-0.0670916 </td> <td>-0.0459904</td> <td>-0.0270548 </td> <td>0.127029   </td> <td>-0.019549  </td> <td>-0.050195 </td> <td>-0.178213  </td> <td>-0.153606  </td> <td>-0.172185 </td> <td>-0.17971   </td> <td>-0.133925 </td> <td>1          </td> <td>-0.137308 </td>\n",
       "        </tr>\n",
       "        <tr>\n",
       "            <td>0.0697063 </td> <td>0.0806525  </td> <td>0.126117   </td> <td>0.0234951  </td> <td>0.0271583 </td> <td>0.192392   </td> <td>0.118706  </td> <td>-0.101873  </td> <td>-0.0141027 </td> <td>-0.0243858 </td> <td>0.00608454 </td> <td>0.0930668 </td> <td>0.00608454 </td> <td>-0.0663168 </td> <td>-0.017442  </td> <td>0.0107533  </td> <td>0.0304002  </td> <td>-0.0274849</td> <td>-0.0246968 </td> <td>-0.017442  </td> <td>-0.0107637 </td> <td>-0.061102 </td> <td>-0.16268   </td> <td>-0.140219  </td> <td>-0.157178 </td> <td>-0.164047  </td> <td>-0.122253 </td> <td>-0.137308  </td> <td>1         </td>\n",
       "        </tr>\n",
       "    </tbody>\n",
       "</table>"
      ],
      "text/plain": [
       "<IPython.core.display.HTML object>"
      ]
     },
     "metadata": {},
     "output_type": "display_data"
    }
   ],
   "source": [
    "matrix_table.show()"
   ]
  },
  {
   "cell_type": "markdown",
   "metadata": {},
   "source": [
    "**Question 4 (5 Points)** Calculate Pearson correlation of each feature with the forest fire area."
   ]
  },
  {
   "cell_type": "code",
   "execution_count": 49,
   "metadata": {},
   "outputs": [
    {
     "data": {
      "text/html": [
       "<table border=\"1\" class=\"dataframe\">\n",
       "    <thead>\n",
       "        <tr>\n",
       "            <th>Labels</th> <th>Pearsonr</th>\n",
       "        </tr>\n",
       "    </thead>\n",
       "    <tbody>\n",
       "        <tr>\n",
       "            <td>X     </td> <td>0.0633853  </td>\n",
       "        </tr>\n",
       "        <tr>\n",
       "            <td>Y     </td> <td>0.0448732  </td>\n",
       "        </tr>\n",
       "        <tr>\n",
       "            <td>FFMC  </td> <td>0.040122   </td>\n",
       "        </tr>\n",
       "        <tr>\n",
       "            <td>DMC   </td> <td>0.0729943  </td>\n",
       "        </tr>\n",
       "        <tr>\n",
       "            <td>DC    </td> <td>0.0493832  </td>\n",
       "        </tr>\n",
       "        <tr>\n",
       "            <td>ISI   </td> <td>0.00825769 </td>\n",
       "        </tr>\n",
       "        <tr>\n",
       "            <td>temp  </td> <td>0.0978441  </td>\n",
       "        </tr>\n",
       "        <tr>\n",
       "            <td>RH    </td> <td>-0.0755186 </td>\n",
       "        </tr>\n",
       "        <tr>\n",
       "            <td>wind  </td> <td>0.0123173  </td>\n",
       "        </tr>\n",
       "        <tr>\n",
       "            <td>rain  </td> <td>-0.00736573</td>\n",
       "        </tr>\n",
       "    </tbody>\n",
       "</table>\n",
       "<p>... (19 rows omitted)</p>"
      ],
      "text/plain": [
       "Labels | Pearsonr\n",
       "X      | 0.0633853\n",
       "Y      | 0.0448732\n",
       "FFMC   | 0.040122\n",
       "DMC    | 0.0729943\n",
       "DC     | 0.0493832\n",
       "ISI    | 0.00825769\n",
       "temp   | 0.0978441\n",
       "RH     | -0.0755186\n",
       "wind   | 0.0123173\n",
       "rain   | -0.00736573\n",
       "... (19 rows omitted)"
      ]
     },
     "execution_count": 49,
     "metadata": {},
     "output_type": "execute_result"
    }
   ],
   "source": [
    "labels = data2.drop('area').labels\n",
    "r_values=[]\n",
    "for i in np.arange(len(labels)):\n",
    "    r_values.append(pearsonr(data2.column('area'),data2.column(labels[i] ))[0])\n",
    "    \n",
    "corr_table=Table().with_columns('Labels',labels,'Pearsonr',r_values) \n",
    "corr_table"
   ]
  },
  {
   "cell_type": "markdown",
   "metadata": {},
   "source": [
    "**Question 5 (15 Points)Feature Selection** We want to use 5 features which have the highest orrelation with the forest fire area. However, we do not want to use any correlated feature such that no feature pair in these selected features should have a correlation higher than 0.5 or less than -0.5. If there is such a pair, remove the  feature which is less correlated with forest fire area and pick the feature which has the most correlation with the fire area among all other previosuly not selected features. Eventually you should have 5 features."
   ]
  },
  {
   "cell_type": "code",
   "execution_count": 129,
   "metadata": {},
   "outputs": [
    {
     "data": {
      "text/html": [
       "<table border=\"1\" class=\"dataframe\">\n",
       "    <thead>\n",
       "        <tr>\n",
       "            <th>Labels</th> <th>Pearsonr</th> <th>abs</th>\n",
       "        </tr>\n",
       "    </thead>\n",
       "    <tbody>\n",
       "        <tr>\n",
       "            <td>temp  </td> <td>0.0978441 </td> <td>0.0978441</td>\n",
       "        </tr>\n",
       "        <tr>\n",
       "            <td>sat   </td> <td>0.0878676 </td> <td>0.0878676</td>\n",
       "        </tr>\n",
       "        <tr>\n",
       "            <td>RH    </td> <td>-0.0755186</td> <td>0.0755186</td>\n",
       "        </tr>\n",
       "        <tr>\n",
       "            <td>DMC   </td> <td>0.0729943 </td> <td>0.0729943</td>\n",
       "        </tr>\n",
       "        <tr>\n",
       "            <td>X     </td> <td>0.0633853 </td> <td>0.0633853</td>\n",
       "        </tr>\n",
       "        <tr>\n",
       "            <td>sep   </td> <td>0.0565729 </td> <td>0.0565729</td>\n",
       "        </tr>\n",
       "    </tbody>\n",
       "</table>"
      ],
      "text/plain": [
       "Labels | Pearsonr   | abs\n",
       "temp   | 0.0978441  | 0.0978441\n",
       "sat    | 0.0878676  | 0.0878676\n",
       "RH     | -0.0755186 | 0.0755186\n",
       "DMC    | 0.0729943  | 0.0729943\n",
       "X      | 0.0633853  | 0.0633853\n",
       "sep    | 0.0565729  | 0.0565729"
      ]
     },
     "execution_count": 129,
     "metadata": {},
     "output_type": "execute_result"
    }
   ],
   "source": [
    "corr_first5=corr_table.with_columns('abs',abs(corr_table.column('Pearsonr'))).sort('abs',descending=True).take(np.arange(6))\n",
    "corr_first5"
   ]
  },
  {
   "cell_type": "code",
   "execution_count": 116,
   "metadata": {},
   "outputs": [],
   "source": [
    "def find_correlation(column1,column2):\n",
    "    return matrix_table[matrix_table.column_index(column1)][matrix_table.column_index(column2)]"
   ]
  },
  {
   "cell_type": "code",
   "execution_count": 123,
   "metadata": {},
   "outputs": [
    {
     "name": "stdout",
     "output_type": "stream",
     "text": [
      "temp, temp, 1.0\n",
      "temp, sat, 0.023174109691778983\n",
      "temp, RH, -0.5041782189597932\n",
      "temp, DMC, 0.4656158030272235\n",
      "temp, X, -0.06693564998504759\n",
      "temp, sep, 0.09904670950618465\n",
      "sat, temp, 0.023174109691778983\n",
      "sat, sat, 1.0\n",
      "sat, RH, -0.04185629794255413\n",
      "sat, DMC, -0.011522378934034651\n",
      "sat, X, 0.016941405404874908\n",
      "sat, sep, -0.02427218607648703\n",
      "RH, temp, -0.5041782189597932\n",
      "RH, sat, -0.04185629794255413\n",
      "RH, RH, 1.0\n",
      "RH, DMC, 0.12196375031833154\n",
      "RH, X, 0.09939850480789052\n",
      "RH, sep, -0.07855725106077827\n",
      "DMC, temp, 0.4656158030272235\n",
      "DMC, sat, -0.011522378934034651\n",
      "DMC, RH, 0.12196375031833154\n",
      "DMC, DMC, 1.0\n",
      "DMC, X, -0.010330639455733061\n",
      "DMC, sep, 0.10278033298783745\n",
      "X, temp, -0.06693564998504759\n",
      "X, sat, 0.016941405404874908\n",
      "X, RH, 0.09939850480789052\n",
      "X, DMC, -0.010330639455733061\n",
      "X, X, 1.0\n",
      "X, sep, -0.10321780407952001\n",
      "sep, temp, 0.09904670950618465\n",
      "sep, sat, -0.02427218607648703\n",
      "sep, RH, -0.07855725106077827\n",
      "sep, DMC, 0.10278033298783745\n",
      "sep, X, -0.10321780407952001\n",
      "sep, sep, 1.0\n"
     ]
    }
   ],
   "source": [
    "for column1 in corr_first5.column(0):\n",
    "    for column2 in corr_first5.column(0):\n",
    "        print (column1 + \", \"+ column2 +\", \" + str(find_correlation(column1,column2)))"
   ]
  },
  {
   "cell_type": "code",
   "execution_count": 125,
   "metadata": {},
   "outputs": [],
   "source": [
    "#RH,temps values is lower than -0.5 so it is removed."
   ]
  },
  {
   "cell_type": "code",
   "execution_count": 130,
   "metadata": {},
   "outputs": [
    {
     "data": {
      "text/html": [
       "<table border=\"1\" class=\"dataframe\">\n",
       "    <thead>\n",
       "        <tr>\n",
       "            <th>Labels</th> <th>Pearsonr</th> <th>abs</th>\n",
       "        </tr>\n",
       "    </thead>\n",
       "    <tbody>\n",
       "        <tr>\n",
       "            <td>temp  </td> <td>0.0978441</td> <td>0.0978441</td>\n",
       "        </tr>\n",
       "        <tr>\n",
       "            <td>sat   </td> <td>0.0878676</td> <td>0.0878676</td>\n",
       "        </tr>\n",
       "        <tr>\n",
       "            <td>DMC   </td> <td>0.0729943</td> <td>0.0729943</td>\n",
       "        </tr>\n",
       "        <tr>\n",
       "            <td>X     </td> <td>0.0633853</td> <td>0.0633853</td>\n",
       "        </tr>\n",
       "        <tr>\n",
       "            <td>sep   </td> <td>0.0565729</td> <td>0.0565729</td>\n",
       "        </tr>\n",
       "    </tbody>\n",
       "</table>"
      ],
      "text/plain": [
       "Labels | Pearsonr  | abs\n",
       "temp   | 0.0978441 | 0.0978441\n",
       "sat    | 0.0878676 | 0.0878676\n",
       "DMC    | 0.0729943 | 0.0729943\n",
       "X      | 0.0633853 | 0.0633853\n",
       "sep    | 0.0565729 | 0.0565729"
      ]
     },
     "execution_count": 130,
     "metadata": {},
     "output_type": "execute_result"
    }
   ],
   "source": [
    "corr_first5=corr_first5.remove(2)\n",
    "corr_first5"
   ]
  },
  {
   "cell_type": "markdown",
   "metadata": {},
   "source": [
    "**Question 6 (15 Points)** Build a linear regression model using the features selected in Question 5. Print the weigths of each feature and bias value."
   ]
  },
  {
   "cell_type": "code",
   "execution_count": 70,
   "metadata": {},
   "outputs": [
    {
     "data": {
      "text/html": [
       "<table border=\"1\" class=\"dataframe\">\n",
       "    <thead>\n",
       "        <tr>\n",
       "            <th>temp</th> <th>sat</th> <th>DMC</th> <th>X</th> <th>sep</th>\n",
       "        </tr>\n",
       "    </thead>\n",
       "    <tbody>\n",
       "        <tr>\n",
       "            <td>22.7</td> <td>0   </td> <td>108.4</td> <td>8   </td> <td>1   </td>\n",
       "        </tr>\n",
       "        <tr>\n",
       "            <td>17.8</td> <td>1   </td> <td>43.7 </td> <td>7   </td> <td>0   </td>\n",
       "        </tr>\n",
       "        <tr>\n",
       "            <td>14.2</td> <td>1   </td> <td>253.6</td> <td>8   </td> <td>0   </td>\n",
       "        </tr>\n",
       "    </tbody>\n",
       "</table>\n",
       "<p>... (410 rows omitted)</p>"
      ],
      "text/plain": [
       "<IPython.core.display.HTML object>"
      ]
     },
     "metadata": {},
     "output_type": "display_data"
    }
   ],
   "source": [
    "train_features_5=train.drop('area').select(corr_first5.column(0))\n",
    "train_features_5.show(3)"
   ]
  },
  {
   "cell_type": "code",
   "execution_count": 71,
   "metadata": {},
   "outputs": [],
   "source": [
    "def rmse_train_with5(weights):\n",
    "    return rmse(weights[0:len(weights)-1],weights[len(weights)-1], train_features_5, train_areas)"
   ]
  },
  {
   "cell_type": "code",
   "execution_count": 72,
   "metadata": {},
   "outputs": [
    {
     "name": "stdout",
     "output_type": "stream",
     "text": [
      "The best slopes for the training set:\n"
     ]
    },
    {
     "data": {
      "text/html": [
       "<table border=\"1\" class=\"dataframe\">\n",
       "    <thead>\n",
       "        <tr>\n",
       "            <th>temp</th> <th>sat</th> <th>DMC</th> <th>X</th> <th>sep</th> <th>bias</th>\n",
       "        </tr>\n",
       "    </thead>\n",
       "    <tbody>\n",
       "        <tr>\n",
       "            <td>0.935529</td> <td>19.5177</td> <td>0.0379566</td> <td>2.61656</td> <td>9.6117</td> <td>-26.5263</td>\n",
       "        </tr>\n",
       "    </tbody>\n",
       "</table>"
      ],
      "text/plain": [
       "<IPython.core.display.HTML object>"
      ]
     },
     "metadata": {},
     "output_type": "display_data"
    },
    {
     "name": "stdout",
     "output_type": "stream",
     "text": [
      "RMSE of all training examples using the best slopes: 68.6484051543383\n"
     ]
    }
   ],
   "source": [
    "initial_weights_with5 = np.ones( len(train_features_5.row(0) )+1)\n",
    "learned_weights_with5 = minimize(rmse_train_with5, start=initial_weights_with5, smooth=True, array=True)\n",
    "print('The best slopes for the training set:')\n",
    "features_names_with5 = np.append(train_features_5.labels,'bias')\n",
    "Table(features_names_with5).with_row(list(learned_weights_with5)).show()\n",
    "print('RMSE of all training examples using the best slopes:', rmse_train_with5(learned_weights_with5))"
   ]
  },
  {
   "cell_type": "markdown",
   "metadata": {},
   "source": [
    "**Question 7 (10 Points)**  Calculate root mean square error value of your models in Question 2 and Question 6 on your test data."
   ]
  },
  {
   "cell_type": "code",
   "execution_count": 82,
   "metadata": {},
   "outputs": [],
   "source": [
    "test_area = test.column('area')\n",
    "test_features_Q2 = test.drop('area')\n",
    "test_features_Q6=test.select(corr_first5.column(0))"
   ]
  },
  {
   "cell_type": "code",
   "execution_count": 83,
   "metadata": {},
   "outputs": [],
   "source": [
    "def rmse_test(weights,feature):\n",
    "    return rmse(weights[0:len(weights)-1],weights[len(weights)-1], feature, test_area)"
   ]
  },
  {
   "cell_type": "code",
   "execution_count": 93,
   "metadata": {},
   "outputs": [
    {
     "name": "stdout",
     "output_type": "stream",
     "text": [
      "RMSE score of Q2 Model: 32.41440979591175\n",
      "RMSE score of Q6 Model: 30.355589615542293\n"
     ]
    }
   ],
   "source": [
    "print('RMSE score of Q2 Model: '+ str(rmse_test(learned_weights,test_features_Q2)))\n",
    "print('RMSE score of Q6 Model: '+ str(rmse_test(learned_weights_with5,test_features_Q6)))\n"
   ]
  },
  {
   "cell_type": "markdown",
   "metadata": {},
   "source": [
    "**Question 8 (5 Points)** Plot the test data where x axis is the actual forest fire area and y axis is the predicted values by the model in Question 2 and Question 6. The colors for each model should be different. "
   ]
  },
  {
   "cell_type": "code",
   "execution_count": 134,
   "metadata": {},
   "outputs": [],
   "source": [
    "bias_Q2 = learned_weights[len(learned_weights)-1]\n",
    "bias_Q6 = learned_weights_with5[len(learned_weights_with5)-1]\n",
    "def predict_Q2(row):\n",
    "    return sum(learned_weights[0:len(learned_weights)-1] * np.array(row)) + bias_Q2\n",
    "def predict_Q6(row):\n",
    "    return sum(learned_weights_with5[0:len(learned_weights_with5)-1] * np.array(row)) + bias_Q6"
   ]
  },
  {
   "cell_type": "code",
   "execution_count": 137,
   "metadata": {},
   "outputs": [],
   "source": [
    "with_prediction=test.with_columns('Prediction_Q2', test.drop('area').apply(predict_Q2),'Prediction_Q6',test.select(corr_first5.column(0)).apply(predict_Q6))"
   ]
  },
  {
   "cell_type": "code",
   "execution_count": 142,
   "metadata": {},
   "outputs": [
    {
     "data": {
      "text/plain": [
       "[<matplotlib.lines.Line2D at 0x2c3d0240128>]"
      ]
     },
     "execution_count": 142,
     "metadata": {},
     "output_type": "execute_result"
    },
    {
     "data": {
      "image/png": "[encoded data removed]",
      "text/plain": [
       "<Figure size 360x360 with 1 Axes>"
      ]
     },
     "metadata": {},
     "output_type": "display_data"
    }
   ],
   "source": [
    "with_prediction.select('area','Prediction_Q2','Prediction_Q6').scatter('area')\n",
    "plots.plot([0,9e1],[0,9e1])"
   ]
  },
  {
   "cell_type": "markdown",
   "metadata": {},
   "source": [
    "**Question 9(20 Points)K-fold**. Build a knn model for this problem where the predicted area is the mean of the closest 3 neighbors. Calculate RMSE score for this model on your test data."
   ]
  },
  {
   "cell_type": "code",
   "execution_count": 98,
   "metadata": {},
   "outputs": [],
   "source": [
    "def distance(pt1, pt2):\n",
    "    \"\"\"The distance between two points, represented as arrays.\"\"\"\n",
    "    return np.sqrt(sum((pt1 - pt2) ** 2))\n",
    "def row_distance(row1, row2):\n",
    "    \"\"\"The distance between two rows of a table.\"\"\"\n",
    "    return distance(np.array(row1), np.array(row2))\n",
    "def distances(training, example, output):\n",
    "    \"\"\"Compute the distance from example for each row in training.\"\"\"\n",
    "    dists = []\n",
    "    attributes = training.drop(output)\n",
    "    for row in attributes.rows:\n",
    "        dists.append(row_distance(row, example))\n",
    "    return training.with_column('Distance', dists)\n",
    "def closest(training, example, k, output):\n",
    "    \"\"\"Return a table of the k closest neighbors to example.\"\"\"\n",
    "    return distances(training, example, output).sort('Distance').take(np.arange(k))"
   ]
  },
  {
   "cell_type": "code",
   "execution_count": 103,
   "metadata": {},
   "outputs": [],
   "source": [
    "def predict_knn(example):\n",
    "    \"\"\"Return the majority class among the k nearest neighbors.\"\"\"\n",
    "    return np.average(closest(train, example, 3, 'area').column('area'))"
   ]
  },
  {
   "cell_type": "code",
   "execution_count": 105,
   "metadata": {},
   "outputs": [
    {
     "name": "stdout",
     "output_type": "stream",
     "text": [
      "Test set RMSE for multiple linear regression:  32.41440979591175\n",
      "Test set RMSE for nearest neighbor regression: 38.81583225507146\n"
     ]
    }
   ],
   "source": [
    "prediction_with_knn = test.drop('area').apply(predict_knn)\n",
    "rmse_knn = np.mean((test_area - prediction_with_knn) ** 2) ** 0.5\n",
    "rmse_linear=rmse_test(learned_weights,test_features_Q2)\n",
    "print('Test set RMSE for multiple linear regression: ', rmse_linear)\n",
    "print('Test set RMSE for nearest neighbor regression:', rmse_knn)"
   ]
  },
  {
   "cell_type": "code",
   "execution_count": null,
   "metadata": {},
   "outputs": [],
   "source": []
  }
 ],
 "metadata": {
  "kernelspec": {
   "display_name": "Python 3",
   "language": "python",
   "name": "python3"
  },
  "language_info": {
   "codemirror_mode": {
    "name": "ipython",
    "version": 3
   },
   "file_extension": ".py",
   "mimetype": "text/x-python",
   "name": "python",
   "nbconvert_exporter": "python",
   "pygments_lexer": "ipython3",
   "version": "3.7.3"
  }
 },
 "nbformat": 4,
 "nbformat_minor": 1
}
