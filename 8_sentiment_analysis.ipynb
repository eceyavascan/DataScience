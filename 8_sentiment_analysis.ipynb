{
 "cells": [
  {
   "cell_type": "markdown",
   "metadata": {},
   "source": [
    "## **YAP 101 Bonus Homework**  \n",
    "Due Date: 07 April 2020 23:59\n",
    "\n",
    "Send your files to m.torusdag@etu.edu.tr and m.kutlu@etu.edu.tr\n",
    "\n",
    "The subject of your email should be \"YAP101 HW Bonus\"\n",
    "\n",
    "Total score is 100. This homework is a bonus."
   ]
  },
  {
   "cell_type": "markdown",
   "metadata": {},
   "source": [
    "In this homework, you will use sentiment.csv file which is uploaded on Piazza. Each row represents a review about a movie and whether that review is positive (p) or negative (n) or objective (o). "
   ]
  },
  {
   "cell_type": "code",
   "execution_count": 1,
   "metadata": {},
   "outputs": [],
   "source": [
    "# Run this cell first\n",
    "from datascience import * \n",
    "%matplotlib inline\n",
    "import matplotlib.pyplot as plots\n",
    "plots.style.use('fivethirtyeight')\n",
    "import pandas as pd\n",
    "import numpy as np"
   ]
  },
  {
   "cell_type": "markdown",
   "metadata": {},
   "source": [
    "**Question 1 (5 Points)**. Load the data. If there are labels other than p, n, or o, remove those rows. "
   ]
  },
  {
   "cell_type": "code",
   "execution_count": 7,
   "metadata": {},
   "outputs": [
    {
     "data": {
      "text/html": [
       "<table border=\"1\" class=\"dataframe\">\n",
       "    <thead>\n",
       "        <tr>\n",
       "            <th>sentiment</th> <th>count</th>\n",
       "        </tr>\n",
       "    </thead>\n",
       "    <tbody>\n",
       "        <tr>\n",
       "            <td>n        </td> <td>78   </td>\n",
       "        </tr>\n",
       "        <tr>\n",
       "            <td>o        </td> <td>323  </td>\n",
       "        </tr>\n",
       "        <tr>\n",
       "            <td>p        </td> <td>580  </td>\n",
       "        </tr>\n",
       "    </tbody>\n",
       "</table>"
      ],
      "text/plain": [
       "sentiment | count\n",
       "n         | 78\n",
       "o         | 323\n",
       "p         | 580"
      ]
     },
     "execution_count": 7,
     "metadata": {},
     "output_type": "execute_result"
    }
   ],
   "source": [
    "# write your answer here\n",
    "data = pd.read_csv('sentiment.csv')\n",
    "data['sentiment']=data['sentiment'].str.strip()\n",
    "data=data.dropna(how='any',axis=0)\n",
    "data_table=Table.from_df(data)\n",
    "data_table=data_table.where('sentiment',are.not_equal_to('?'))\n",
    "data_table.group('sentiment')"
   ]
  },
  {
   "cell_type": "code",
   "execution_count": 8,
   "metadata": {},
   "outputs": [
    {
     "data": {
      "text/html": [
       "<table border=\"1\" class=\"dataframe\">\n",
       "    <thead>\n",
       "        <tr>\n",
       "            <th>yorum</th> <th>sentiment</th>\n",
       "        </tr>\n",
       "    </thead>\n",
       "    <tbody>\n",
       "        <tr>\n",
       "            <td>    ben bu filmi seyrettigimde çok etkilenmiştim.           </td> <td>p        </td>\n",
       "        </tr>\n",
       "        <tr>\n",
       "            <td>   Acaba Kate Winslet yerine Drew Barrymore daha mı başa ...</td> <td>o        </td>\n",
       "        </tr>\n",
       "        <tr>\n",
       "            <td>   Bir kere Leonardo DiCaprio mükemmel oynamış.             </td> <td>p        </td>\n",
       "        </tr>\n",
       "        <tr>\n",
       "            <td>   val kilmer'ı bir çpk insanın sevme nedeni bu filmdir     </td> <td>p        </td>\n",
       "        </tr>\n",
       "        <tr>\n",
       "            <td>  11 oskar ödülüne gelince  akademi hiç mi yanlış karar  ...</td> <td>o        </td>\n",
       "        </tr>\n",
       "        <tr>\n",
       "            <td> '' Aşk filmi''.                                            </td> <td>o        </td>\n",
       "        </tr>\n",
       "        <tr>\n",
       "            <td>  Bu adamın 2 filmi var ( Kurtlarla Dansı izlemedim) 1.R ...</td> <td>o        </td>\n",
       "        </tr>\n",
       "        <tr>\n",
       "            <td>  Kahinin sözlerine dikkat edin.                            </td> <td>o        </td>\n",
       "        </tr>\n",
       "        <tr>\n",
       "            <td>  Sinemanın zevkine varıyorsunuz izlerken.                  </td> <td>p        </td>\n",
       "        </tr>\n",
       "        <tr>\n",
       "            <td> :) İlk izlediğimde çok etkilenmiştim.                      </td> <td>p        </td>\n",
       "        </tr>\n",
       "    </tbody>\n",
       "</table>\n",
       "<p>... (971 rows omitted)</p>"
      ],
      "text/plain": [
       "yorum                                                        | sentiment\n",
       "    ben bu filmi seyrettigimde çok etkilenmiştim.            | p\n",
       "   Acaba Kate Winslet yerine Drew Barrymore daha mı başa ... | o\n",
       "   Bir kere Leonardo DiCaprio mükemmel oynamış.              | p\n",
       "   val kilmer'ı bir çpk insanın sevme nedeni bu filmdir      | p\n",
       "  11 oskar ödülüne gelince  akademi hiç mi yanlış karar  ... | o\n",
       " '' Aşk filmi''.                                             | o\n",
       "  Bu adamın 2 filmi var ( Kurtlarla Dansı izlemedim) 1.R ... | o\n",
       "  Kahinin sözlerine dikkat edin.                             | o\n",
       "  Sinemanın zevkine varıyorsunuz izlerken.                   | p\n",
       " :) İlk izlediğimde çok etkilenmiştim.                       | p\n",
       "... (971 rows omitted)"
      ]
     },
     "execution_count": 8,
     "metadata": {},
     "output_type": "execute_result"
    }
   ],
   "source": [
    "data_table"
   ]
  },
  {
   "cell_type": "markdown",
   "metadata": {},
   "source": [
    "**Question 2 (15 Points)** Build a model which predicts the sentiment of each review randomly. Calculate its average accuracy using 5-fold cross validation.  We want to apply 5-fold cross validation without shuffling the data. That is, the first fold should be the first 20% of the data. The second fold should be the second 20% of the data. **DO NOT SHUFFLE THE DATA**. "
   ]
  },
  {
   "cell_type": "code",
   "execution_count": 9,
   "metadata": {},
   "outputs": [
    {
     "data": {
      "text/html": [
       "<table border=\"1\" class=\"dataframe\">\n",
       "    <thead>\n",
       "        <tr>\n",
       "            <th>sentiment</th> <th>label</th>\n",
       "        </tr>\n",
       "    </thead>\n",
       "    <tbody>\n",
       "        <tr>\n",
       "            <td>p        </td> <td>1    </td>\n",
       "        </tr>\n",
       "        <tr>\n",
       "            <td>n        </td> <td>-1   </td>\n",
       "        </tr>\n",
       "        <tr>\n",
       "            <td>o        </td> <td>0    </td>\n",
       "        </tr>\n",
       "    </tbody>\n",
       "</table>"
      ],
      "text/plain": [
       "sentiment | label\n",
       "p         | 1\n",
       "n         | -1\n",
       "o         | 0"
      ]
     },
     "execution_count": 9,
     "metadata": {},
     "output_type": "execute_result"
    }
   ],
   "source": [
    "numeric_scores = Table().with_columns('sentiment',make_array('p','n','o'),'label',make_array(1,-1,0) )\n",
    "numeric_scores"
   ]
  },
  {
   "cell_type": "code",
   "execution_count": 11,
   "metadata": {},
   "outputs": [
    {
     "data": {
      "text/html": [
       "<table border=\"1\" class=\"dataframe\">\n",
       "    <thead>\n",
       "        <tr>\n",
       "            <th>sentiment</th> <th>yorum</th> <th>label</th>\n",
       "        </tr>\n",
       "    </thead>\n",
       "    <tbody>\n",
       "        <tr>\n",
       "            <td>n        </td> <td> Ama sinema tarihinin çoğu klasiğini izlemiş bir kimse g ...</td> <td>-1   </td>\n",
       "        </tr>\n",
       "        <tr>\n",
       "            <td>n        </td> <td> Benim için şöyle rastgele açılmış bir Yeşilçam filminde ...</td> <td>-1   </td>\n",
       "        </tr>\n",
       "        <tr>\n",
       "            <td>n        </td> <td> Böyle kaliteli oyuncuların bu tür basit yapımlarda oyna ...</td> <td>-1   </td>\n",
       "        </tr>\n",
       "        <tr>\n",
       "            <td>n        </td> <td> izlenebilir mi ?                                           </td> <td>-1   </td>\n",
       "        </tr>\n",
       "        <tr>\n",
       "            <td>n        </td> <td> İzlerken sıkılmıyorsunuz ama salondan cıktıgımda '' off ...</td> <td>-1   </td>\n",
       "        </tr>\n",
       "        <tr>\n",
       "            <td>n        </td> <td> Jennifer Lopez eh işte diyorum.                            </td> <td>-1   </td>\n",
       "        </tr>\n",
       "        <tr>\n",
       "            <td>n        </td> <td> Kısaca Titanik bana göre heyecanlı olmayan bir macera f ...</td> <td>-1   </td>\n",
       "        </tr>\n",
       "        <tr>\n",
       "            <td>n        </td> <td> kotu bir film.                                             </td> <td>-1   </td>\n",
       "        </tr>\n",
       "        <tr>\n",
       "            <td>n        </td> <td> leonardo di caprio olmasaydı ergen kız filmi bile olamazdı.</td> <td>-1   </td>\n",
       "        </tr>\n",
       "        <tr>\n",
       "            <td>n        </td> <td> Lopez olmasa 10 olacaktı.                                  </td> <td>-1   </td>\n",
       "        </tr>\n",
       "    </tbody>\n",
       "</table>\n",
       "<p>... (971 rows omitted)</p>"
      ],
      "text/plain": [
       "sentiment | yorum                                                        | label\n",
       "n         |  Ama sinema tarihinin çoğu klasiğini izlemiş bir kimse g ... | -1\n",
       "n         |  Benim için şöyle rastgele açılmış bir Yeşilçam filminde ... | -1\n",
       "n         |  Böyle kaliteli oyuncuların bu tür basit yapımlarda oyna ... | -1\n",
       "n         |  izlenebilir mi ?                                            | -1\n",
       "n         |  İzlerken sıkılmıyorsunuz ama salondan cıktıgımda '' off ... | -1\n",
       "n         |  Jennifer Lopez eh işte diyorum.                             | -1\n",
       "n         |  Kısaca Titanik bana göre heyecanlı olmayan bir macera f ... | -1\n",
       "n         |  kotu bir film.                                              | -1\n",
       "n         |  leonardo di caprio olmasaydı ergen kız filmi bile olamazdı. | -1\n",
       "n         |  Lopez olmasa 10 olacaktı.                                   | -1\n",
       "... (971 rows omitted)"
      ]
     },
     "execution_count": 11,
     "metadata": {},
     "output_type": "execute_result"
    }
   ],
   "source": [
    "data2 = data_table.join('sentiment',numeric_scores)\n",
    "data2"
   ]
  },
  {
   "cell_type": "code",
   "execution_count": 18,
   "metadata": {},
   "outputs": [
    {
     "data": {
      "text/html": [
       "<table border=\"1\" class=\"dataframe\">\n",
       "    <thead>\n",
       "        <tr>\n",
       "            <th>sentiment</th> <th>yorum</th> <th>label</th> <th>random_predictions</th>\n",
       "        </tr>\n",
       "    </thead>\n",
       "    <tbody>\n",
       "        <tr>\n",
       "            <td>n        </td> <td> Ama sinema tarihinin çoğu klasiğini izlemiş bir kimse g ...</td> <td>-1   </td> <td>-1                </td>\n",
       "        </tr>\n",
       "        <tr>\n",
       "            <td>n        </td> <td> Benim için şöyle rastgele açılmış bir Yeşilçam filminde ...</td> <td>-1   </td> <td>1                 </td>\n",
       "        </tr>\n",
       "        <tr>\n",
       "            <td>n        </td> <td> Böyle kaliteli oyuncuların bu tür basit yapımlarda oyna ...</td> <td>-1   </td> <td>1                 </td>\n",
       "        </tr>\n",
       "        <tr>\n",
       "            <td>n        </td> <td> izlenebilir mi ?                                           </td> <td>-1   </td> <td>-1                </td>\n",
       "        </tr>\n",
       "        <tr>\n",
       "            <td>n        </td> <td> İzlerken sıkılmıyorsunuz ama salondan cıktıgımda '' off ...</td> <td>-1   </td> <td>1                 </td>\n",
       "        </tr>\n",
       "        <tr>\n",
       "            <td>n        </td> <td> Jennifer Lopez eh işte diyorum.                            </td> <td>-1   </td> <td>1                 </td>\n",
       "        </tr>\n",
       "        <tr>\n",
       "            <td>n        </td> <td> Kısaca Titanik bana göre heyecanlı olmayan bir macera f ...</td> <td>-1   </td> <td>-1                </td>\n",
       "        </tr>\n",
       "        <tr>\n",
       "            <td>n        </td> <td> kotu bir film.                                             </td> <td>-1   </td> <td>0                 </td>\n",
       "        </tr>\n",
       "        <tr>\n",
       "            <td>n        </td> <td> leonardo di caprio olmasaydı ergen kız filmi bile olamazdı.</td> <td>-1   </td> <td>1                 </td>\n",
       "        </tr>\n",
       "        <tr>\n",
       "            <td>n        </td> <td> Lopez olmasa 10 olacaktı.                                  </td> <td>-1   </td> <td>1                 </td>\n",
       "        </tr>\n",
       "    </tbody>\n",
       "</table>\n",
       "<p>... (971 rows omitted)</p>"
      ],
      "text/plain": [
       "sentiment | yorum                                                        | label | random_predictions\n",
       "n         |  Ama sinema tarihinin çoğu klasiğini izlemiş bir kimse g ... | -1    | -1\n",
       "n         |  Benim için şöyle rastgele açılmış bir Yeşilçam filminde ... | -1    | 1\n",
       "n         |  Böyle kaliteli oyuncuların bu tür basit yapımlarda oyna ... | -1    | 1\n",
       "n         |  izlenebilir mi ?                                            | -1    | -1\n",
       "n         |  İzlerken sıkılmıyorsunuz ama salondan cıktıgımda '' off ... | -1    | 1\n",
       "n         |  Jennifer Lopez eh işte diyorum.                             | -1    | 1\n",
       "n         |  Kısaca Titanik bana göre heyecanlı olmayan bir macera f ... | -1    | -1\n",
       "n         |  kotu bir film.                                              | -1    | 0\n",
       "n         |  leonardo di caprio olmasaydı ergen kız filmi bile olamazdı. | -1    | 1\n",
       "n         |  Lopez olmasa 10 olacaktı.                                   | -1    | 1\n",
       "... (971 rows omitted)"
      ]
     },
     "execution_count": 18,
     "metadata": {},
     "output_type": "execute_result"
    }
   ],
   "source": [
    "import random\n",
    "random_score=numeric_scores.column('label')\n",
    "prediction=[]\n",
    "for i in np.arange(data_table.num_rows):\n",
    "    prediction.append(random.choice(random_score))\n",
    "    \n",
    "data2=data2.with_column('random_predictions',prediction)   \n",
    "data2"
   ]
  },
  {
   "cell_type": "code",
   "execution_count": 23,
   "metadata": {},
   "outputs": [],
   "source": [
    "def euclidian_distance(x, y):\n",
    "    \"\"\"Returns the Euclidean distance between point1 and point2.\n",
    "    Each argument is an array containing the coordinates of a point.\"\"\"\n",
    "    return np.sqrt(np.sum((x - y)**2))\n",
    "\n",
    "def all_distances(training, new_point):\n",
    "    \"\"\"Returns an array of distances\n",
    "    between each point in the training set\n",
    "    and the new point (which is a row of attributes)\"\"\"\n",
    "    attributes = training.select(\"random_predictions\")\n",
    "    def distance_from_point(row):\n",
    "        return euclidian_distance(np.array(new_point), np.array(row))\n",
    "    return attributes.apply(distance_from_point)\n",
    "\n",
    "def table_with_distances(training, new_point):\n",
    "    \"\"\"Augments the training table \n",
    "    with a column of distances from new_point\"\"\"\n",
    "    return training.with_column('Distance', all_distances(training, new_point))\n",
    "\n",
    "def closest(training, new_point, k):\n",
    "    \"\"\"Returns a table of the k rows of the augmented table\n",
    "    corresponding to the k smallest distances\"\"\"\n",
    "    with_dists = table_with_distances(training, new_point)\n",
    "    sorted_by_distance = with_dists.sort('Distance')\n",
    "    topk = sorted_by_distance.take(np.arange(k))\n",
    "    return topk\n",
    "\n",
    "def majority(topkclasses):\n",
    "    ones = topkclasses.where('label', are.equal_to(1)).num_rows\n",
    "    zeros = topkclasses.where('label', are.equal_to(0)).num_rows\n",
    "    negatives=topkclasses.where('label', are.equal_to(-1)).num_rows\n",
    "    if ones > zeros and ones>negatives:\n",
    "        return 1\n",
    "    elif negatives>ones and negatives>zeros:\n",
    "        return -1\n",
    "    else:\n",
    "        return 0\n",
    "    \n",
    "def classify(training, new_point, k):\n",
    "    closestk = closest(training, new_point, k)\n",
    "    topkclasses = closestk.select('label')\n",
    "    return majority(topkclasses)\n",
    "\n",
    "def count_zero(array):\n",
    "    return len(array) - np.count_nonzero(array)\n",
    "\n",
    "def count_equal(array1, array2):\n",
    "    return count_zero(array1 - array2)\n",
    "\n",
    "def evaluate_accuracy(training, test, k):\n",
    "    test_attributes = test.select(\"random_predictions\")\n",
    "    def classify_testrow(row):\n",
    "        return classify(training, row, k)\n",
    "    c = test_attributes.apply(classify_testrow)\n",
    "    return count_equal(c, test.column('label')) / test.num_rows\n",
    "\n",
    "def kfold(data,k1,k2):\n",
    "    index = np.arange(data.num_rows)\n",
    "    test_size = int(data.num_rows/k1)\n",
    "    print (test_size)\n",
    "    total_accuracy = 0\n",
    "    for i in np.arange(k1):\n",
    "        test_index = index[i*test_size:(i+1)*test_size]\n",
    "        train_index = np.setdiff1d(index, test_index)\n",
    "        test = data.take(test_index)\n",
    "        train = data.take(train_index)\n",
    "        accuracy = evaluate_accuracy(train, test, k2)\n",
    "        total_accuracy = total_accuracy + accuracy\n",
    "        print (accuracy)\n",
    "        return total_accuracy/k1"
   ]
  },
  {
   "cell_type": "code",
   "execution_count": 25,
   "metadata": {},
   "outputs": [
    {
     "name": "stdout",
     "output_type": "stream",
     "text": [
      "196\n",
      "0.6020408163265306\n"
     ]
    },
    {
     "data": {
      "text/plain": [
       "0.12040816326530612"
      ]
     },
     "execution_count": 25,
     "metadata": {},
     "output_type": "execute_result"
    }
   ],
   "source": [
    "kfold(data2.select(\"label\",\"random_predictions\"),5,5)"
   ]
  },
  {
   "cell_type": "markdown",
   "metadata": {},
   "source": [
    "**Question 3 (80 Points)** Build a model that predicts the sentiment of the reviews. You should define at least 10 features. Try to find the best machine learning model. Try to find the best feature set for this model. In the **same** 5-fold setting, if your model's average accuracy is 0.15 more than random model's performance, you will get full score from this question (still you should define 10 features.) **Show all your work for feature selection etc. including the models that could not perform well.**"
   ]
  },
  {
   "cell_type": "code",
   "execution_count": 32,
   "metadata": {},
   "outputs": [
    {
     "data": {
      "text/plain": [
       "' Ama sinema tarihinin çoğu klasiğini izlemiş bir kimse gelip  Titanik 10 numara  dünyanın en iyi filmidir derse  bu beni derbeder yapar  yollara düşerim.'"
      ]
     },
     "execution_count": 32,
     "metadata": {},
     "output_type": "execute_result"
    }
   ],
   "source": [
    "data2.column('yorum')[0]"
   ]
  },
  {
   "cell_type": "code",
   "execution_count": 34,
   "metadata": {},
   "outputs": [],
   "source": [
    "def convert(lst): \n",
    "    return ([i for item in lst for i in item.split()]) "
   ]
  },
  {
   "cell_type": "code",
   "execution_count": 37,
   "metadata": {},
   "outputs": [
    {
     "ename": "SyntaxError",
     "evalue": "invalid syntax (<ipython-input-37-7265e553e1e5>, line 2)",
     "output_type": "error",
     "traceback": [
      "\u001b[1;36m  File \u001b[1;32m\"<ipython-input-37-7265e553e1e5>\"\u001b[1;36m, line \u001b[1;32m2\u001b[0m\n\u001b[1;33m    print(str(res))\u001b[0m\n\u001b[1;37m        ^\u001b[0m\n\u001b[1;31mSyntaxError\u001b[0m\u001b[1;31m:\u001b[0m invalid syntax\n"
     ]
    }
   ],
   "source": [
    "res=convert(data2.column('yorum')[0].split()\n",
    "print(str(res))"
   ]
  },
  {
   "cell_type": "code",
   "execution_count": null,
   "metadata": {},
   "outputs": [],
   "source": []
  }
 ],
 "metadata": {
  "kernelspec": {
   "display_name": "Python 3",
   "language": "python",
   "name": "python3"
  },
  "language_info": {
   "codemirror_mode": {
    "name": "ipython",
    "version": 3
   },
   "file_extension": ".py",
   "mimetype": "text/x-python",
   "name": "python",
   "nbconvert_exporter": "python",
   "pygments_lexer": "ipython3",
   "version": "3.7.3"
  }
 },
 "nbformat": 4,
 "nbformat_minor": 1
}
